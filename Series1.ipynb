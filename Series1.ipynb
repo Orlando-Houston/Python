{
 "cells": [
  {
   "cell_type": "markdown",
   "id": "ranging-hepatitis",
   "metadata": {},
   "source": [
    "# - Seriler(Series)\n",
    "* Seriler Numpy dizileri baz alınarak oluşturulmuştur.\n",
    "* Dolayısıyla tek boyutlu Numpy dizilerine çok benzerler.\n",
    "* https://medium.com/bili%C5%9Fim-hareketi/veri-bilimi-i%CC%87%C3%A7in-temel-python-k%C3%BCt%C3%BCphaneleri-2-pandas-dcc12ae01b7d"
   ]
  },
  {
   "cell_type": "code",
   "execution_count": 1,
   "id": "handled-skiing",
   "metadata": {},
   "outputs": [],
   "source": [
    "import numpy as np\n",
    "import pandas as pd"
   ]
  },
  {
   "cell_type": "code",
   "execution_count": 4,
   "id": "living-lighting",
   "metadata": {},
   "outputs": [
    {
     "name": "stdout",
     "output_type": "stream",
     "text": [
      "[0 1 2 3 4 5 6 7 8 9]\n"
     ]
    }
   ],
   "source": [
    "numbers = [0, 1, 2, 3, 4, 5, 6, 7, 8, 9]\n",
    "numpy_array = np.array(numbers)\n",
    "print(numpy_array)\n"
   ]
  },
  {
   "cell_type": "code",
   "execution_count": 5,
   "id": "incomplete-masters",
   "metadata": {},
   "outputs": [
    {
     "name": "stdout",
     "output_type": "stream",
     "text": [
      "0    0\n",
      "1    1\n",
      "2    2\n",
      "3    3\n",
      "4    4\n",
      "5    5\n",
      "6    6\n",
      "7    7\n",
      "8    8\n",
      "9    9\n",
      "dtype: int64\n"
     ]
    }
   ],
   "source": [
    "pandas_series = pd.Series(data=numbers)\n",
    "print(pandas_series)"
   ]
  },
  {
   "cell_type": "markdown",
   "id": "geographic-berlin",
   "metadata": {},
   "source": [
    "# Numpy dizisinden farklı olarak serilerde index sütunu da bulunur. İndex sütunu belirtilmediği takdirde default olarak n uzunlukta bir dizi için 0'dan başlayıp 1,2,… şeklinde (n-1)’e kadar devam eden bir dizi olur."
   ]
  },
  {
   "cell_type": "code",
   "execution_count": 6,
   "id": "sunrise-lesson",
   "metadata": {},
   "outputs": [
    {
     "name": "stdout",
     "output_type": "stream",
     "text": [
      "a    0.0\n",
      "b    1.0\n",
      "c    2.0\n",
      "d    3.0\n",
      "e    4.0\n",
      "f    5.0\n",
      "g    6.0\n",
      "h    7.0\n",
      "i    8.0\n",
      "j    9.0\n",
      "dtype: float64\n"
     ]
    }
   ],
   "source": [
    "my_index = ['a', 'b', 'c', 'd', 'e', 'f', 'g','h', 'i','j']\n",
    "pandas_series = pd.Series(data=numbers, index=my_index, dtype=float)\n",
    "print(pandas_series)"
   ]
  },
  {
   "cell_type": "code",
   "execution_count": 7,
   "id": "wicked-frequency",
   "metadata": {},
   "outputs": [
    {
     "name": "stdout",
     "output_type": "stream",
     "text": [
      "a    0\n",
      "b    1\n",
      "c    2\n",
      "d    3\n",
      "e    4\n",
      "f    5\n",
      "g    6\n",
      "h    7\n",
      "i    8\n",
      "j    9\n",
      "dtype: int64\n"
     ]
    }
   ],
   "source": [
    "numbers_dictionary = {'a': 0, 'b':1, 'c':2, 'd':3, 'e':4, 'f':5, 'g':6,'h':7, 'i':8,'j':9}\n",
    "pandas_series = pd.Series(data=numbers_dictionary)\n",
    "print(pandas_series)"
   ]
  },
  {
   "cell_type": "markdown",
   "id": "searching-parent",
   "metadata": {},
   "source": [
    "##  Serinin data parametresi bir dictionary olduğunda ‘key’ kısımlarının index olarak kullanabiliriz\n",
    "* Seriler Numpy dizilerine çok benzer.\n",
    "* Bu sebeple Numpy dizilerine ait bir çok fonksiyon ve metot seriler için de geçerlidir."
   ]
  },
  {
   "cell_type": "code",
   "execution_count": 8,
   "id": "continuing-pastor",
   "metadata": {},
   "outputs": [
    {
     "name": "stdout",
     "output_type": "stream",
     "text": [
      "1\n"
     ]
    }
   ],
   "source": [
    "print(pandas_series.ndim)"
   ]
  },
  {
   "cell_type": "code",
   "execution_count": 9,
   "id": "beginning-circulation",
   "metadata": {},
   "outputs": [
    {
     "name": "stdout",
     "output_type": "stream",
     "text": [
      "int64\n"
     ]
    }
   ],
   "source": [
    "print(pandas_series.dtype)"
   ]
  },
  {
   "cell_type": "code",
   "execution_count": 10,
   "id": "worst-villa",
   "metadata": {},
   "outputs": [
    {
     "name": "stdout",
     "output_type": "stream",
     "text": [
      "(10,)\n"
     ]
    }
   ],
   "source": [
    "print(pandas_series.shape)"
   ]
  },
  {
   "cell_type": "markdown",
   "id": "racial-shelf",
   "metadata": {},
   "source": [
    "## max(), min(), sum(), median(), mean()… gibi özellikleri Numpy’da olduğu gibi Pandas’ta da kullanabiliyoruz."
   ]
  },
  {
   "cell_type": "code",
   "execution_count": 11,
   "id": "weighted-dancing",
   "metadata": {},
   "outputs": [
    {
     "name": "stdout",
     "output_type": "stream",
     "text": [
      "45\n"
     ]
    }
   ],
   "source": [
    "print(pandas_series.sum())"
   ]
  },
  {
   "cell_type": "code",
   "execution_count": 12,
   "id": "compressed-extraction",
   "metadata": {},
   "outputs": [
    {
     "name": "stdout",
     "output_type": "stream",
     "text": [
      "9\n"
     ]
    }
   ],
   "source": [
    "print(pandas_series.max())"
   ]
  },
  {
   "cell_type": "code",
   "execution_count": 13,
   "id": "ranging-charity",
   "metadata": {},
   "outputs": [
    {
     "name": "stdout",
     "output_type": "stream",
     "text": [
      "4.5\n"
     ]
    }
   ],
   "source": [
    "print(pandas_series.mean())"
   ]
  },
  {
   "cell_type": "markdown",
   "id": "scenic-kingdom",
   "metadata": {},
   "source": [
    "## Pandas Dataframe’ler pandasın çok boyutlu veri yapılarıdır. Bunu en kolay benzetebileceğimiz yapı sql veya excel tabloları gibi görebiliriz. Bunlar gibi satır ve sütunlardan oluşurlar. Dataframe yapıları veri analizi işlemlerinde oldukça faydalı olmaktadırlar."
   ]
  },
  {
   "cell_type": "markdown",
   "id": "simple-stuff",
   "metadata": {},
   "source": [
    "## DataFrame"
   ]
  },
  {
   "cell_type": "markdown",
   "id": "internal-skating",
   "metadata": {},
   "source": [
    "* my_dataframe = pd.DataFrame(data,index)\n",
    "* Data parametresi\n",
    "* Dictionary’lerden, serilerden veya listelerden oluşan bir dictionary,\n",
    "* 2 boyutlu numpy dizisi,\n",
    "* Başka bir DataFrame"
   ]
  },
  {
   "cell_type": "code",
   "execution_count": 15,
   "id": "civilian-jamaica",
   "metadata": {},
   "outputs": [],
   "source": [
    "#Data dictionary'lerden oluştuğunda\n",
    "dict1 = dict(a=1, b=2, c=3, d=4)\n",
    "dict2 = dict(a=5, b=6, c=7, d=8, e=9)"
   ]
  },
  {
   "cell_type": "code",
   "execution_count": 16,
   "id": "conscious-substance",
   "metadata": {},
   "outputs": [
    {
     "name": "stdout",
     "output_type": "stream",
     "text": [
      "   first  second\n",
      "a    1.0       5\n",
      "b    2.0       6\n",
      "c    3.0       7\n",
      "d    4.0       8\n",
      "e    NaN       9\n"
     ]
    }
   ],
   "source": [
    "data1 = dict(first=dict1, second=dict2)\n",
    "df1 = pd.DataFrame(data1)\n",
    "print(df1)"
   ]
  },
  {
   "cell_type": "code",
   "execution_count": 17,
   "id": "packed-trouble",
   "metadata": {},
   "outputs": [],
   "source": [
    "#Data serilerden oluştuğunda\n",
    "s1 = pd.Series([1.1, 2.2, 3.3, 4.4])\n",
    "s2 = pd.Series(['a', 'b', 'c', 'd', 'e'])"
   ]
  },
  {
   "cell_type": "code",
   "execution_count": 18,
   "id": "homeless-translation",
   "metadata": {},
   "outputs": [
    {
     "name": "stdout",
     "output_type": "stream",
     "text": [
      "   first second\n",
      "0    1.1      a\n",
      "1    2.2      b\n",
      "2    3.3      c\n",
      "3    4.4      d\n",
      "4    NaN      e\n"
     ]
    }
   ],
   "source": [
    "data2 = dict(first=s1, second=s2)\n",
    "df2 = pd.DataFrame(data2)\n",
    "print(df2)"
   ]
  },
  {
   "cell_type": "code",
   "execution_count": 19,
   "id": "union-nebraska",
   "metadata": {},
   "outputs": [
    {
     "name": "stdout",
     "output_type": "stream",
     "text": [
      "   first second\n",
      "0    1.1      a\n",
      "1    2.2      b\n",
      "2    3.3      c\n",
      "3    4.4      d\n",
      "4    NaN      e\n"
     ]
    }
   ],
   "source": [
    "#Data başka bir DataFrame'den oluştuğunda\n",
    "df3 = pd.DataFrame(df2)\n",
    "print(df3)"
   ]
  },
  {
   "cell_type": "markdown",
   "id": "hollywood-lesson",
   "metadata": {},
   "source": [
    "* https://www.veribilimiokulu.com/blog/python-pandas-ile-temel-islemler/\n",
    "\n",
    "* https://pandas.pydata.org/pandas-docs/stable/reference/api/pandas.DataFrame.describe.html"
   ]
  },
  {
   "cell_type": "code",
   "execution_count": null,
   "id": "assisted-stock",
   "metadata": {},
   "outputs": [],
   "source": []
  }
 ],
 "metadata": {
  "kernelspec": {
   "display_name": "Python 3",
   "language": "python",
   "name": "python3"
  },
  "language_info": {
   "codemirror_mode": {
    "name": "ipython",
    "version": 3
   },
   "file_extension": ".py",
   "mimetype": "text/x-python",
   "name": "python",
   "nbconvert_exporter": "python",
   "pygments_lexer": "ipython3",
   "version": "3.9.1"
  }
 },
 "nbformat": 4,
 "nbformat_minor": 5
}
