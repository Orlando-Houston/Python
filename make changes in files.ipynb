{
 "cells": [
  {
   "cell_type": "code",
   "execution_count": 2,
   "metadata": {},
   "outputs": [
    {
     "name": "stdout",
     "output_type": "stream",
     "text": [
      "Altun Özder\n",
      "Selda BozkurtMunteha Baysal\n",
      "Havva Ors\n",
      "\n"
     ]
    }
   ],
   "source": [
    "with open(\"bilgiler.txt\",\"r+\",encoding = \"utf-8\") as file:\n",
    "    print(file.read())"
   ]
  },
  {
   "cell_type": "code",
   "execution_count": 3,
   "metadata": {},
   "outputs": [],
   "source": [
    "with open(\"bilgiler.txt\",\"r+\",encoding = \"utf-8\") as file: \n",
    "    file.seek(10) # 10. byte\n",
    "    file.write(\"Deneme\")"
   ]
  },
  {
   "cell_type": "code",
   "execution_count": 5,
   "metadata": {},
   "outputs": [
    {
     "name": "stdout",
     "output_type": "stream",
     "text": [
      "Altun ÖzdDenemelda BozkurtMunteha Baysal\n",
      "Havva Ors\n",
      "\n"
     ]
    }
   ],
   "source": [
    "with open(\"bilgiler.txt\",\"r+\",encoding = \"utf-8\") as file:\n",
    "    print(file.read())"
   ]
  },
  {
   "cell_type": "code",
   "execution_count": 6,
   "metadata": {},
   "outputs": [
    {
     "name": "stdout",
     "output_type": "stream",
     "text": [
      "Altun ÖzdDenemelda BozkurtMunteha Baysal\n",
      "Havva Ors\n",
      "\n"
     ]
    }
   ],
   "source": [
    "with open(\"bilgiler.txt\",\"r+\",encoding = \"utf-8\") as file:\n",
    "    print(file.read())"
   ]
  },
  {
   "cell_type": "code",
   "execution_count": 7,
   "metadata": {},
   "outputs": [
    {
     "name": "stdout",
     "output_type": "stream",
     "text": [
      "Altun ÖzdDenemelda BozkurtMunteha Baysal\n",
      "Havva Ors\n",
      "\n"
     ]
    }
   ],
   "source": [
    "with open(\"bilgiler.txt\",\"r\",encoding = \"utf-8\") as file:\n",
    "    print(file.read())"
   ]
  },
  {
   "cell_type": "code",
   "execution_count": 8,
   "metadata": {},
   "outputs": [],
   "source": [
    "with open(\"bilgiler.txt\",\"a\",encoding = \"utf-8\") as file:\n",
    "    file.write(\"Mert Erarslan\\n\") # \""
   ]
  },
  {
   "cell_type": "code",
   "execution_count": 9,
   "metadata": {},
   "outputs": [
    {
     "name": "stdout",
     "output_type": "stream",
     "text": [
      "Altun ÖzdDenemelda BozkurtMunteha Baysal\n",
      "Havva Ors\n",
      "Mert Erarslan\n",
      "\n"
     ]
    }
   ],
   "source": [
    "with open(\"bilgiler.txt\",\"r\",encoding = \"utf-8\") as file:\n",
    "    print(file.read())"
   ]
  },
  {
   "cell_type": "code",
   "execution_count": null,
   "metadata": {},
   "outputs": [],
   "source": []
  },
  {
   "cell_type": "code",
   "execution_count": 10,
   "metadata": {},
   "outputs": [
    {
     "name": "stdout",
     "output_type": "stream",
     "text": [
      "Altun ÖzdDenemelda BozkurtMunteha Baysal\n",
      "Havva Ors\n",
      "Mert Erarslan\n",
      "\n"
     ]
    }
   ],
   "source": [
    "with open(\"bilgiler.txt\",\"r+\",encoding = \"utf-8\") as file:\n",
    "    icerik = file.read()\n",
    "    print(icerik)"
   ]
  },
  {
   "cell_type": "code",
   "execution_count": 11,
   "metadata": {},
   "outputs": [],
   "source": [
    "with open(\"bilgiler.txt\",\"a\",encoding = \"utf-8\") as file:\n",
    "    file.write(\"Elif Uygun\\n\")"
   ]
  },
  {
   "cell_type": "code",
   "execution_count": 12,
   "metadata": {},
   "outputs": [
    {
     "name": "stdout",
     "output_type": "stream",
     "text": [
      "Altun ÖzdDenemelda BozkurtMunteha Baysal\n",
      "Havva Ors\n",
      "Mert Erarslan\n",
      "Elif Uygun\n",
      "\n"
     ]
    }
   ],
   "source": [
    "with open(\"bilgiler.txt\",\"r\",encoding = \"utf-8\") as file:\n",
    "    print(file.read())"
   ]
  },
  {
   "cell_type": "code",
   "execution_count": 13,
   "metadata": {},
   "outputs": [
    {
     "name": "stdout",
     "output_type": "stream",
     "text": [
      "Altun ÖzdDenemelda BozkurtMunteha Baysal\n",
      "Havva Ors\n",
      "Mert Erarslan\n",
      "Elif Uygun\n",
      "\n"
     ]
    }
   ],
   "source": [
    "with open(\"bilgiler.txt\",\"r+\",encoding = \"utf-8\") as file:\n",
    "    icerik = file.read()\n",
    "    print(icerik)"
   ]
  },
  {
   "cell_type": "code",
   "execution_count": 14,
   "metadata": {},
   "outputs": [],
   "source": [
    "with open(\"bilgiler.txt\",\"r+\",encoding = \"utf-8\") as file:\n",
    "    icerik = file.read()\n",
    "    \n",
    "    icerik = \"Nuran Kukrer\\n\" + icerik\n",
    "    file.seek(0)\n",
    "    file.write(icerik)"
   ]
  },
  {
   "cell_type": "code",
   "execution_count": 15,
   "metadata": {},
   "outputs": [
    {
     "name": "stdout",
     "output_type": "stream",
     "text": [
      "Nuran Kukrer\n",
      "Altun ÖzdDenemelda BozkurtMunteha Baysal\n",
      "Havva Ors\n",
      "Mert Erarslan\n",
      "Elif Uygun\n",
      "\n"
     ]
    }
   ],
   "source": [
    "with open(\"bilgiler.txt\",\"r+\",encoding = \"utf-8\") as file:\n",
    "    icerik = file.read()\n",
    "    print(icerik)"
   ]
  },
  {
   "cell_type": "code",
   "execution_count": 16,
   "metadata": {},
   "outputs": [
    {
     "name": "stdout",
     "output_type": "stream",
     "text": [
      "['Nuran Kukrer\\n', 'Altun ÖzdDenemelda BozkurtMunteha Baysal\\n', 'Havva Ors\\n', 'Mert Erarslan\\n', 'Elif Uygun\\n']\n"
     ]
    }
   ],
   "source": [
    "with open(\"bilgiler.txt\",\"r+\",encoding = \"utf-8\") as file:\n",
    "    print(file.readlines())"
   ]
  },
  {
   "cell_type": "code",
   "execution_count": 17,
   "metadata": {},
   "outputs": [],
   "source": [
    "with open(\"bilgiler.txt\",\"r+\",encoding = \"utf-8\") as file:\n",
    "    liste = file.readlines()\n",
    "    liste.insert(3,\"Gul Taskin\\n\")\n",
    "    file.seek(0)\n",
    "    for satır in liste:\n",
    "        file.write(satır)"
   ]
  },
  {
   "cell_type": "code",
   "execution_count": 18,
   "metadata": {},
   "outputs": [
    {
     "name": "stdout",
     "output_type": "stream",
     "text": [
      "Nuran Kukrer\n",
      "Altun ÖzdDenemelda BozkurtMunteha Baysal\n",
      "Havva Ors\n",
      "Gul Taskin\n",
      "Mert Erarslan\n",
      "Elif Uygun\n",
      "\n"
     ]
    }
   ],
   "source": [
    "with open(\"bilgiler.txt\",\"r+\",encoding = \"utf-8\") as file:\n",
    "    icerik = file.read()\n",
    "    print(icerik)"
   ]
  },
  {
   "cell_type": "code",
   "execution_count": null,
   "metadata": {},
   "outputs": [],
   "source": []
  }
 ],
 "metadata": {
  "kernelspec": {
   "display_name": "Python 3",
   "language": "python",
   "name": "python3"
  },
  "language_info": {
   "codemirror_mode": {
    "name": "ipython",
    "version": 3
   },
   "file_extension": ".py",
   "mimetype": "text/x-python",
   "name": "python",
   "nbconvert_exporter": "python",
   "pygments_lexer": "ipython3",
   "version": "3.8.5"
  }
 },
 "nbformat": 4,
 "nbformat_minor": 4
}
