{
 "cells": [
  {
   "cell_type": "markdown",
   "metadata": {},
   "source": [
    " * list =[i for i in range(1,6)]\n",
    " \n",
    " * liste_2 = [i for i in liste_1] ifadesinin anlamı şöyledir:\n",
    "\n",
    "* liste_2 = [ i for i in liste_1] işaretli kısım aslında normal bir for döngüsü. i'nin döndürdüğü değer sırasıyla 1, 2, 3, 4, 5\n",
    "\n",
    "\n",
    " \n",
    "* liste_2 = [ i for i in liste_1] burdaki işaretli kısım ise programa, for döngüsünün her turunda dönen i değerini listeye eklemesini söylüyor."
   ]
  },
  {
   "cell_type": "code",
   "execution_count": 20,
   "metadata": {},
   "outputs": [],
   "source": [
    " list =[i for i in range(1,6)]"
   ]
  },
  {
   "cell_type": "code",
   "execution_count": 21,
   "metadata": {},
   "outputs": [
    {
     "data": {
      "text/plain": [
       "[1, 2, 3, 4, 5]"
      ]
     },
     "execution_count": 21,
     "metadata": {},
     "output_type": "execute_result"
    }
   ],
   "source": [
    "list"
   ]
  },
  {
   "cell_type": "code",
   "execution_count": 1,
   "metadata": {},
   "outputs": [
    {
     "name": "stdout",
     "output_type": "stream",
     "text": [
      "[1, 2, 3, 4, 5]\n"
     ]
    }
   ],
   "source": [
    "list1 = [1,2,3,4,5]\n",
    "list2 =list()\n",
    "\n",
    "\n",
    "for i  in list1:\n",
    "    list2.append(i)\n",
    "print(list2)"
   ]
  },
  {
   "cell_type": "code",
   "execution_count": null,
   "metadata": {},
   "outputs": [],
   "source": []
  },
  {
   "cell_type": "code",
   "execution_count": 2,
   "metadata": {},
   "outputs": [
    {
     "name": "stdout",
     "output_type": "stream",
     "text": [
      "[7, 8, 9, 0, 1, 2]\n"
     ]
    }
   ],
   "source": [
    "list3 =[7,8,9,0,1,2]\n",
    "\n",
    "list4 =[i for i  in list3]\n",
    "\n",
    "print(list4)"
   ]
  },
  {
   "cell_type": "code",
   "execution_count": 5,
   "metadata": {},
   "outputs": [
    {
     "name": "stdout",
     "output_type": "stream",
     "text": [
      "[6, 8, 10]\n"
     ]
    }
   ],
   "source": [
    "list5 =[3,4,5]\n",
    "\n",
    "list6 = [i * 2 for i in list5]\n",
    "\n",
    "print (list6)"
   ]
  },
  {
   "cell_type": "code",
   "execution_count": 6,
   "metadata": {},
   "outputs": [
    {
     "name": "stdout",
     "output_type": "stream",
     "text": [
      "[2, 12, 30]\n"
     ]
    }
   ],
   "source": [
    "list = [(1,2),(3,4),(5,6)]\n",
    "\n",
    "listt=[i*j for i ,j in list]\n",
    "\n",
    "print(listt)"
   ]
  },
  {
   "cell_type": "code",
   "execution_count": 8,
   "metadata": {},
   "outputs": [
    {
     "name": "stdout",
     "output_type": "stream",
     "text": [
      "['jjj', 'aaa', 'vvv', 'aaa']\n"
     ]
    }
   ],
   "source": [
    "s =\"java\"\n",
    "\n",
    "lists=[i * 3 for i in s]\n",
    "\n",
    "print(lists)"
   ]
  },
  {
   "cell_type": "code",
   "execution_count": 11,
   "metadata": {},
   "outputs": [
    {
     "name": "stdout",
     "output_type": "stream",
     "text": [
      "[1, 2, 3]\n",
      "[4, 5, 6, 7, 8]\n",
      "[9, 10, 11, 12, 13, 14, 15]\n"
     ]
    }
   ],
   "source": [
    "liste = [[1,2,3],[4,5,6,7,8],[9,10,11,12,13,14,15]]\n",
    "\n",
    "for i in liste:\n",
    "    \n",
    "     print(i)\n",
    "\n"
   ]
  },
  {
   "cell_type": "code",
   "execution_count": 12,
   "metadata": {},
   "outputs": [
    {
     "name": "stdout",
     "output_type": "stream",
     "text": [
      "1\n",
      "2\n",
      "3\n",
      "4\n",
      "5\n",
      "6\n",
      "7\n",
      "8\n",
      "9\n",
      "10\n",
      "11\n",
      "12\n",
      "13\n",
      "14\n",
      "15\n"
     ]
    }
   ],
   "source": [
    "liste = [[1,2,3],[4,5,6,7,8],[9,10,11,12,13,14,15]]\n",
    "\n",
    "for i in liste:\n",
    "    for x in i:\n",
    "        \n",
    "        \n",
    "        print(x)"
   ]
  },
  {
   "cell_type": "code",
   "execution_count": 20,
   "metadata": {},
   "outputs": [
    {
     "ename": "TypeError",
     "evalue": "'list' object is not callable",
     "output_type": "error",
     "traceback": [
      "\u001b[1;31m---------------------------------------------------------------------------\u001b[0m",
      "\u001b[1;31mTypeError\u001b[0m                                 Traceback (most recent call last)",
      "\u001b[1;32m<ipython-input-20-c510f4898a5f>\u001b[0m in \u001b[0;36m<module>\u001b[1;34m\u001b[0m\n\u001b[0;32m      1\u001b[0m \u001b[0mlist1\u001b[0m \u001b[1;33m=\u001b[0m \u001b[1;33m[\u001b[0m\u001b[1;33m[\u001b[0m\u001b[1;36m1\u001b[0m\u001b[1;33m,\u001b[0m\u001b[1;36m2\u001b[0m\u001b[1;33m,\u001b[0m\u001b[1;36m3\u001b[0m\u001b[1;33m]\u001b[0m\u001b[1;33m,\u001b[0m\u001b[1;33m[\u001b[0m\u001b[1;36m4\u001b[0m\u001b[1;33m,\u001b[0m\u001b[1;36m5\u001b[0m\u001b[1;33m,\u001b[0m\u001b[1;36m6\u001b[0m\u001b[1;33m,\u001b[0m\u001b[1;36m7\u001b[0m\u001b[1;33m,\u001b[0m\u001b[1;36m8\u001b[0m\u001b[1;33m]\u001b[0m\u001b[1;33m,\u001b[0m\u001b[1;33m[\u001b[0m\u001b[1;36m9\u001b[0m\u001b[1;33m,\u001b[0m\u001b[1;36m10\u001b[0m\u001b[1;33m,\u001b[0m\u001b[1;36m11\u001b[0m\u001b[1;33m,\u001b[0m\u001b[1;36m12\u001b[0m\u001b[1;33m,\u001b[0m\u001b[1;36m13\u001b[0m\u001b[1;33m,\u001b[0m\u001b[1;36m14\u001b[0m\u001b[1;33m,\u001b[0m\u001b[1;36m15\u001b[0m\u001b[1;33m]\u001b[0m\u001b[1;33m]\u001b[0m\u001b[1;33m\u001b[0m\u001b[1;33m\u001b[0m\u001b[0m\n\u001b[1;32m----> 2\u001b[1;33m \u001b[0mlis\u001b[0m \u001b[1;33m=\u001b[0m \u001b[0mlist\u001b[0m\u001b[1;33m(\u001b[0m\u001b[1;33m)\u001b[0m\u001b[1;33m\u001b[0m\u001b[1;33m\u001b[0m\u001b[0m\n\u001b[0m\u001b[0;32m      3\u001b[0m \u001b[1;33m\u001b[0m\u001b[0m\n\u001b[0;32m      4\u001b[0m \u001b[1;32mfor\u001b[0m \u001b[0mi\u001b[0m \u001b[1;32min\u001b[0m \u001b[0mlist1\u001b[0m\u001b[1;33m:\u001b[0m\u001b[1;33m\u001b[0m\u001b[1;33m\u001b[0m\u001b[0m\n\u001b[0;32m      5\u001b[0m     \u001b[1;32mfor\u001b[0m \u001b[0mx\u001b[0m \u001b[1;32min\u001b[0m \u001b[0mi\u001b[0m\u001b[1;33m:\u001b[0m\u001b[1;33m\u001b[0m\u001b[1;33m\u001b[0m\u001b[0m\n",
      "\u001b[1;31mTypeError\u001b[0m: 'list' object is not callable"
     ]
    }
   ],
   "source": [
    "list1 = [[1,2,3],[4,5,6,7,8],[9,10,11,12,13,14,15]]\n",
    "lis = list()\n",
    "\n",
    "for i in list1:\n",
    "    for x in i:\n",
    "        \n",
    "        \n",
    "        lis.append(x)\n",
    "print(lis)\n",
    "        \n",
    "        \n",
    "        \n",
    "\n",
    "        \n",
    "        \n",
    "        \n",
    "        \n",
    "        \n",
    "        "
   ]
  },
  {
   "cell_type": "code",
   "execution_count": 19,
   "metadata": {},
   "outputs": [
    {
     "name": "stdout",
     "output_type": "stream",
     "text": [
      "[1, 2, 3, 4, 5, 6, 7, 8, 9, 10, 11, 12, 13, 14, 15]\n"
     ]
    }
   ],
   "source": [
    "liste = [[1,2,3],[4,5,6,7,8],[9,10,11,12,13,14,15]]\n",
    "liste1 = [x for i in liste for x in i]\n",
    "print(liste1)"
   ]
  },
  {
   "cell_type": "code",
   "execution_count": 1,
   "metadata": {},
   "outputs": [
    {
     "name": "stdout",
     "output_type": "stream",
     "text": [
      "[1, 2, 3, 4, 5]\n"
     ]
    }
   ],
   "source": [
    "# Listelerdeki append metodunu hatırlayalım.\n",
    "liste = [1,2,3,4]\n",
    "liste.append(5)\n",
    " \n",
    "print(liste)"
   ]
  },
  {
   "cell_type": "code",
   "execution_count": 2,
   "metadata": {},
   "outputs": [
    {
     "name": "stdout",
     "output_type": "stream",
     "text": [
      "[1, 2, 3, 4, 5]\n"
     ]
    }
   ],
   "source": [
    "# liste1'den liste2'yi oluşturalım.\n",
    " \n",
    "liste1 = [1,2,3,4,5]\n",
    " \n",
    "liste2 = list() # veya liste2 = [] ikisi de boş liste oluşturur.\n",
    " \n",
    " \n",
    "for i in liste1:\n",
    "    liste2.append(i) # liste2 'ye liste1 in elemanları for döngüsü yardımıyla atıyoruz.\n",
    "    \n",
    "print(liste2)\n",
    " "
   ]
  },
  {
   "cell_type": "code",
   "execution_count": 3,
   "metadata": {},
   "outputs": [
    {
     "name": "stdout",
     "output_type": "stream",
     "text": [
      "[1, 2, 3, 4, 5]\n"
     ]
    }
   ],
   "source": [
    "liste1 = [1,2,3,4,5] # Örnek 1 \n",
    " \n",
    "liste2 = [i for i in liste1] # List Comprehension\n",
    " \n",
    "print(liste2)"
   ]
  },
  {
   "cell_type": "code",
   "execution_count": 4,
   "metadata": {},
   "outputs": [
    {
     "name": "stdout",
     "output_type": "stream",
     "text": [
      "[2, 4, 6, 8, 10]\n"
     ]
    }
   ],
   "source": [
    "liste1 = [1,2,3,4,5] # Örnek 2\n",
    " \n",
    "liste2 = [i*2 for i in liste1] # List Comprehension\n",
    " \n",
    "print(liste2)"
   ]
  },
  {
   "cell_type": "code",
   "execution_count": 5,
   "metadata": {},
   "outputs": [
    {
     "name": "stdout",
     "output_type": "stream",
     "text": [
      "[2, 12, 30]\n"
     ]
    }
   ],
   "source": [
    "liste1 = [(1,2),(3,4),(5,6)] # Örnek 3\n",
    " \n",
    "liste2 = [i*j for (i,j) in liste1] # List Comprehension\n",
    " \n",
    "print(liste2)"
   ]
  },
  {
   "cell_type": "code",
   "execution_count": 6,
   "metadata": {},
   "outputs": [
    {
     "name": "stdout",
     "output_type": "stream",
     "text": [
      "[1, 2, 3, 5, 6, 7, 8, 10]\n"
     ]
    }
   ],
   "source": [
    "liste1 = [1,2,3,4,5,6,7,8,9,10] # Örnek 4\n",
    " \n",
    "liste2 = [i for i in liste1 if not (i == 4 or i == 9)] # List Comprehension\n",
    " \n",
    "print(liste2)\n",
    " "
   ]
  },
  {
   "cell_type": "code",
   "execution_count": 7,
   "metadata": {},
   "outputs": [
    {
     "name": "stdout",
     "output_type": "stream",
     "text": [
      "['PPP', 'yyy', 'ttt', 'hhh', 'ooo', 'nnn']\n"
     ]
    }
   ],
   "source": [
    "s = \"Python\"  # Örnek 5\n",
    " \n",
    "liste = [i * 3 for i in s] # List Comprehension\n",
    " \n",
    "print(liste)"
   ]
  },
  {
   "cell_type": "code",
   "execution_count": 8,
   "metadata": {},
   "outputs": [],
   "source": [
    "liste = [[1,2,3],[4,5,6,7,8],[9,10,11,12,13,14,15]]\n",
    " \n",
    "# yeni_liste = [1,2,3,4,5,6,7,8,9,10,11,12,13,14,15]"
   ]
  },
  {
   "cell_type": "code",
   "execution_count": 9,
   "metadata": {},
   "outputs": [
    {
     "name": "stdout",
     "output_type": "stream",
     "text": [
      "[1, 2, 3]\n",
      "[4, 5, 6, 7, 8]\n",
      "[9, 10, 11, 12, 13, 14, 15]\n"
     ]
    }
   ],
   "source": [
    "liste = [[1,2,3],[4,5,6,7,8],[9,10,11,12,13,14,15]]\n",
    "liste2 = list()\n",
    "for i in liste:\n",
    "    print(i) ## Buradaki i değeri de aslında bir liste."
   ]
  },
  {
   "cell_type": "code",
   "execution_count": 10,
   "metadata": {},
   "outputs": [
    {
     "name": "stdout",
     "output_type": "stream",
     "text": [
      "x: 1\n",
      "x: 2\n",
      "x: 3\n",
      "x: 4\n",
      "x: 5\n",
      "x: 6\n",
      "x: 7\n",
      "x: 8\n",
      "x: 9\n",
      "x: 10\n",
      "x: 11\n",
      "x: 12\n",
      "x: 13\n",
      "x: 14\n",
      "x: 15\n",
      "[1, 2, 3, 4, 5, 6, 7, 8, 9, 10, 11, 12, 13, 14, 15]\n"
     ]
    }
   ],
   "source": [
    "liste = [[1,2,3],[4,5,6,7,8],[9,10,11,12,13,14,15]]\n",
    "liste2 = list()\n",
    "for i in liste:\n",
    "    for x in i:\n",
    "        print(\"x:\",x)\n",
    "        liste2.append(x)\n",
    "print(liste2)"
   ]
  },
  {
   "cell_type": "code",
   "execution_count": 11,
   "metadata": {},
   "outputs": [
    {
     "name": "stdout",
     "output_type": "stream",
     "text": [
      "[1, 2, 3, 4, 5, 6, 7, 8, 9, 10, 11, 12, 13, 14, 15]\n"
     ]
    }
   ],
   "source": [
    "# List Comprehension \n",
    " \n",
    "liste = [[1,2,3],[4,5,6,7,8],[9,10,11,12,13,14,15]]\n",
    "liste2 = [x for i in liste for x in i] # Biraz karmaşık\n",
    "print(liste2)\n",
    " "
   ]
  },
  {
   "cell_type": "markdown",
   "metadata": {},
   "source": [
    "# # range() fonksiyonu aracılığı ile liste içinde\n",
    "    bir sayı dizisi oluşturduk. Aynı zamanda oluşturduğumuz\n",
    "    bu sayı dizisindeki elemanların karelerini hesapladık.\n",
    "    range() fonksiyonunda artış parametresi olarak\n",
    "    2 değerini verdiğimiz için sayı dizimiz 5'ten \n",
    "    başlayarak 12'ye kadar ikişer ikişer arttırıldı.\n",
    "    Her elemanın karesi aynı anda hesaplanmış oldu."
   ]
  },
  {
   "cell_type": "code",
   "execution_count": 12,
   "metadata": {},
   "outputs": [
    {
     "name": "stdout",
     "output_type": "stream",
     "text": [
      "[25, 49, 81, 121]\n"
     ]
    }
   ],
   "source": [
    "kare = [x**2 for x in range(5,12,2)]\n",
    "print(kare)"
   ]
  },
  {
   "cell_type": "code",
   "execution_count": 14,
   "metadata": {},
   "outputs": [
    {
     "name": "stdout",
     "output_type": "stream",
     "text": [
      "[0, 6, 12, 18, 24, 30, 36, 42, 48, 54]\n"
     ]
    }
   ],
   "source": [
    "test = [a for a in range(60) if a % 2 == 0 and a % 3 == 0 ]\n",
    "print(test)\n"
   ]
  },
  {
   "cell_type": "markdown",
   "metadata": {},
   "source": [
    "## List Comprehension içinde stringlerde kullanılan\n",
    "    metot ve fonksiyonları kullanmak mümkün. Buradaki\n",
    "    örnekte görüldüğü gibi liste elemanlarının tamamını\n",
    "    lower() metodu ile küçük harfe çevirdik."
   ]
  },
  {
   "cell_type": "code",
   "execution_count": 15,
   "metadata": {},
   "outputs": [],
   "source": [
    "liste_1 = [\n",
    "    'Türkiye',\n",
    "    'Almanya',\n",
    "    'Japonya',\n",
    "    'Rusya',\n",
    "    'Malezya',\n",
    "    'Singapur'\n",
    "]"
   ]
  },
  {
   "cell_type": "code",
   "execution_count": 16,
   "metadata": {},
   "outputs": [
    {
     "name": "stdout",
     "output_type": "stream",
     "text": [
      "['türkiye', 'almanya', 'japonya', 'rusya', 'malezya', 'singapur']\n"
     ]
    }
   ],
   "source": [
    "liste_2 = [i.lower() for i in liste_1]\n",
    "print(liste_2)"
   ]
  },
  {
   "cell_type": "markdown",
   "metadata": {},
   "source": [
    "## With the List Comprehension structure in our example here\n",
    "     We previously defined and programmed into\n",
    "     from the first letters of the elements in the list whose languages we have written\n",
    "     We have prepared a new list."
   ]
  },
  {
   "cell_type": "code",
   "execution_count": 17,
   "metadata": {},
   "outputs": [
    {
     "name": "stdout",
     "output_type": "stream",
     "text": [
      "['J', 'P', 'C', 'R', 'P', 'H', 'C', 'P']\n"
     ]
    }
   ],
   "source": [
    "l_5 = ['Java', 'Python', 'C', 'Ruby', 'Php', 'Haskell', 'C++', 'Perl']\n",
    "n_5 = [ harf[0] for harf in l_5]\n",
    "print (n_5)"
   ]
  },
  {
   "cell_type": "code",
   "execution_count": 18,
   "metadata": {},
   "outputs": [
    {
     "name": "stdout",
     "output_type": "stream",
     "text": [
      "['JJJJJ', 'PPPPP', 'CCCCC', 'RRRRR', 'PPPPP', 'HHHHH', 'CCCCC', 'PPPPP']\n"
     ]
    }
   ],
   "source": [
    "l_5 = ['Java', 'Python', 'C', 'Ruby', 'Php', 'Haskell', 'C++', 'Perl']\n",
    "n_5 = [ harf[0]*5 for harf in l_5]\n",
    "print (n_5)"
   ]
  },
  {
   "cell_type": "markdown",
   "metadata": {},
   "source": [
    "## upper () returns the letters of a string expression\n",
    "     It is used to convert to uppercase letters.\n",
    "     In the first List Comprehension structure\n",
    "     we have reached the last letter value of each element.\n",
    "     With the second List Comprehension structure\n",
    "     to write these letters seven times\n",
    "     we provided."
   ]
  },
  {
   "cell_type": "code",
   "execution_count": 19,
   "metadata": {},
   "outputs": [
    {
     "name": "stdout",
     "output_type": "stream",
     "text": [
      "['AAAAAAA', 'NNNNNNN', 'RRRRRRR', 'UUUUUUU', 'RRRRRRR', 'TTTTTTT', 'RRRRRRR']\n"
     ]
    }
   ],
   "source": [
    "l_7 = [\n",
    "    'Merhaba',\n",
    "    'Sayın',\n",
    "    'Seyirciler',\n",
    "    'Bu',\n",
    "    'Bir',\n",
    "    'Test',\n",
    "    'Metnidir'\n",
    "]\n",
    "\n",
    "l_8 = [x[-1] for x in l_7]\n",
    "l_9 = [y.upper()*7 for y in l_8]\n",
    "print(l_9)\n"
   ]
  },
  {
   "cell_type": "code",
   "execution_count": 22,
   "metadata": {},
   "outputs": [
    {
     "name": "stdout",
     "output_type": "stream",
     "text": [
      "Kütüphane'nin İnternet Sitesi'ne Hoş Geldiniz\n"
     ]
    }
   ],
   "source": [
    "print(\"Kütüphane'nin İnternet Sitesi'ne Hoş Geldiniz\")\n",
    "\n",
    "kitaplar = {\"Vatan Yahut Silistre\": \"Namık Kemal\",\n",
    "\"Ütopya\": \"Thomas More\",\n",
    "\"Eylül\": \"Mehmet Rauf\",\n",
    "\"İlyada\": \"Homeros\",\n",
    "\"Kürk Mantolu Madonna\": \"Sabahattin Ali\",\n",
    "\"Yabancı\": \"Albert Camus\",\n",
    "\"Aşk\": \"Elif Şafak\",\n",
    "\"Otostopçunun Galaksi Rehberi\": \"Douglas Adams\"}"
   ]
  },
  {
   "cell_type": "code",
   "execution_count": 23,
   "metadata": {},
   "outputs": [],
   "source": [
    "eserler = [i for i in kitaplar.keys()]\n",
    "yazarlar = [i for i in kitaplar.values()]"
   ]
  },
  {
   "cell_type": "code",
   "execution_count": null,
   "metadata": {},
   "outputs": [],
   "source": [
    "while True:\n",
    "\tsecim = int(input(\" -------------\\n Eserleri görmek için 1 \\n Yazarları görmek için 2 \\n Eserleri ve Yazarları görmek için 3 \\n Çıkmak için başka bir şey yazınız:\\n ------------- \"))\n",
    "\t\n",
    "\tif secim == 1:\n",
    "\t\tfor i in eserler: print(\"-\" + i)\n",
    "\n",
    "\telif secim == 2:\n",
    "\t\tfor i in yazarlar: print(\"-\" + i)\n",
    "\n",
    "\telif secim == 3:\n",
    "\t\tfor i in kitaplar.items(): print(i)\n",
    "\n",
    "\telse:\n",
    "\t\tbreak"
   ]
  },
  {
   "cell_type": "code",
   "execution_count": null,
   "metadata": {},
   "outputs": [],
   "source": [
    ">>>Kütüphane'nin İnternet Sitesi'ne Hoş Geldiniz\n",
    ">>> -------------\n",
    ">>> Eserleri görmek için 1\n",
    ">>> Yazarları görmek için 2\n",
    ">>> Eserleri ve Yazarları görmek için 3\n",
    ">>> Çıkmak için başka bir şey yazınız:\n",
    ">>> ------------- 1\n",
    ">>> -Vatan Yahut Silistre\n",
    ">>> -Ütopya\n",
    ">>> -Eylül\n",
    ">>> -İlyada\n",
    ">>> -Kürk Mantolu Madonna\n",
    ">>> -Yabancı\n",
    ">>> -Aşk\n",
    ">>> -Otostopçunun Galaksi Rehberi\n",
    ">>>  -------------\n",
    ">>>  Eserleri görmek için 1\n",
    ">>>  Yazarları görmek için 2\n",
    ">>>  Eserleri ve Yazarları görmek için 3\n",
    ">>>  Çıkmak için başka bir şey yazınız:\n",
    ">>>  ------------- 2\n",
    ">>> -Namık Kemal\n",
    ">>> -Thomas More\n",
    ">>> -Mehmet Rauf\n",
    ">>> -Homeros\n",
    ">>> -Sabahattin Ali\n",
    ">>> -Albert Camus\n",
    ">>> -Elif Şafak\n",
    ">>> -Douglas Adams\n",
    ">>> -------------\n",
    ">>>  Eserleri görmek için 1\n",
    ">>>  Yazarları görmek için 2\n",
    ">>>  Eserleri ve Yazarları görmek için 3\n",
    ">>>  Çıkmak için başka bir şey yazınız:\n",
    ">>>  ------------- 3\n",
    ">>> ('Vatan Yahut Silistre', 'Namık Kemal')\n",
    ">>> ('Ütopya', 'Thomas More')\n",
    ">>> ('Eylül', 'Mehmet Rauf')\n",
    ">>> ('İlyada', 'Homeros')\n",
    ">>> ('Kürk Mantolu Madonna', 'Sabahattin Ali')\n",
    ">>> ('Yabancı', 'Albert Camus')\n",
    ">>> ('Aşk', 'Elif Şafak')\n",
    ">>> ('Otostopçunun Galaksi Rehberi', 'Douglas Adams')\n",
    ">>>  -------------\n",
    ">>>  Eserleri görmek için 1\n",
    ">>>  Yazarları görmek için 2\n",
    ">>>  Eserleri ve Yazarları görmek için 3\n",
    ">>>  Çıkmak için başka bir şey yazınız:\n",
    ">>>  ------------- 4"
   ]
  }
 ],
 "metadata": {
  "kernelspec": {
   "display_name": "Python 3",
   "language": "python",
   "name": "python3"
  },
  "language_info": {
   "codemirror_mode": {
    "name": "ipython",
    "version": 3
   },
   "file_extension": ".py",
   "mimetype": "text/x-python",
   "name": "python",
   "nbconvert_exporter": "python",
   "pygments_lexer": "ipython3",
   "version": "3.8.5"
  }
 },
 "nbformat": 4,
 "nbformat_minor": 4
}
