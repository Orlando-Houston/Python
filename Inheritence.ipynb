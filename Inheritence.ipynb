{
 "cells": [
  {
   "cell_type": "code",
   "execution_count": 1,
   "metadata": {},
   "outputs": [],
   "source": [
    "class Çalışan():\n",
    "    def __init__(self,isim,maaş,departman):\n",
    "        print(\"Çalışan sınıfının init fonksiyonu\")\n",
    "        self.isim = isim\n",
    "        self.maaş = maaş\n",
    "        self.departman = departman\n",
    "    def bilgilerigoster(self):\n",
    "        \n",
    "        print(\"Çalışan sınıfının bilgileri.....\")\n",
    "        \n",
    "        print(\"İsim : {} \\nMaaş: {} \\nDepartman: {}\\n\".format(self.isim,self.maaş,self.departman))\n",
    "    def departman_degistir(self,yeni_departman):\n",
    "        print(\"Departman değişiyor....\")\n",
    "        self.departman = yeni_departman"
   ]
  },
  {
   "cell_type": "code",
   "execution_count": 2,
   "metadata": {},
   "outputs": [],
   "source": [
    "class Yönetici(Çalışan): # Çalışan sınıfından miras alıyoruz.\n",
    "    pass # Pass Deyimi bir bloğu sonradan tanımlamak istediğimizde "
   ]
  },
  {
   "cell_type": "code",
   "execution_count": 3,
   "metadata": {},
   "outputs": [],
   "source": [
    "class Yönetici(Çalışan):\n",
    "    pass"
   ]
  },
  {
   "cell_type": "code",
   "execution_count": 7,
   "metadata": {},
   "outputs": [
    {
     "name": "stdout",
     "output_type": "stream",
     "text": [
      "Çalışan sınıfının init fonksiyonu\n"
     ]
    },
    {
     "data": {
      "text/plain": [
       "'\\nÇıktı\\n \\nÇalışan sınıfının init fonksiyonu\\n \\n'"
      ]
     },
     "execution_count": 7,
     "metadata": {},
     "output_type": "execute_result"
    }
   ],
   "source": [
    "yönetici1 = Yönetici(\"Altun Keskin\",125000,\"information technologies\") # yönetici objesi\n",
    " \n",
    "\"\"\"\n",
    "Çıktı\n",
    " \n",
    "Çalışan sınıfının init fonksiyonu\n",
    " \n",
    "\"\"\""
   ]
  },
  {
   "cell_type": "code",
   "execution_count": 8,
   "metadata": {},
   "outputs": [
    {
     "name": "stdout",
     "output_type": "stream",
     "text": [
      "Çalışan sınıfının bilgileri.....\n",
      "İsim : Altun Keskin \n",
      "Maaş: 125000 \n",
      "Departman: information technologies\n",
      "\n"
     ]
    }
   ],
   "source": [
    "yönetici1.bilgilerigoster()\n",
    " \n"
   ]
  },
  {
   "cell_type": "code",
   "execution_count": 9,
   "metadata": {},
   "outputs": [
    {
     "name": "stdout",
     "output_type": "stream",
     "text": [
      "Departman değişiyor....\n"
     ]
    }
   ],
   "source": [
    "yönetici1.departman_degistir(\"Halkla İlişkiler\")"
   ]
  },
  {
   "cell_type": "code",
   "execution_count": 10,
   "metadata": {},
   "outputs": [
    {
     "name": "stdout",
     "output_type": "stream",
     "text": [
      "Çalışan sınıfının bilgileri.....\n",
      "İsim : Altun Keskin \n",
      "Maaş: 125000 \n",
      "Departman: Halkla İlişkiler\n",
      "\n"
     ]
    }
   ],
   "source": [
    "yönetici1.bilgilerigoster()"
   ]
  },
  {
   "cell_type": "code",
   "execution_count": 11,
   "metadata": {},
   "outputs": [
    {
     "data": {
      "text/plain": [
       "['__class__',\n",
       " '__delattr__',\n",
       " '__dict__',\n",
       " '__dir__',\n",
       " '__doc__',\n",
       " '__eq__',\n",
       " '__format__',\n",
       " '__ge__',\n",
       " '__getattribute__',\n",
       " '__gt__',\n",
       " '__hash__',\n",
       " '__init__',\n",
       " '__init_subclass__',\n",
       " '__le__',\n",
       " '__lt__',\n",
       " '__module__',\n",
       " '__ne__',\n",
       " '__new__',\n",
       " '__reduce__',\n",
       " '__reduce_ex__',\n",
       " '__repr__',\n",
       " '__setattr__',\n",
       " '__sizeof__',\n",
       " '__str__',\n",
       " '__subclasshook__',\n",
       " '__weakref__',\n",
       " 'bilgilerigoster',\n",
       " 'departman',\n",
       " 'departman_degistir',\n",
       " 'isim',\n",
       " 'maaş']"
      ]
     },
     "execution_count": 11,
     "metadata": {},
     "output_type": "execute_result"
    }
   ],
   "source": [
    "dir(yönetici1)"
   ]
  },
  {
   "cell_type": "code",
   "execution_count": 12,
   "metadata": {},
   "outputs": [],
   "source": [
    "class Yönetici(Çalışan):\n",
    "    def zam_yap(self,zam_miktarı):\n",
    "        print(\"Maaşa zam yapılıyor....\")\n",
    "        self.maaş += zam_miktarı  "
   ]
  },
  {
   "cell_type": "code",
   "execution_count": 15,
   "metadata": {},
   "outputs": [
    {
     "name": "stdout",
     "output_type": "stream",
     "text": [
      "Çalışan sınıfının init fonksiyonu\n"
     ]
    }
   ],
   "source": [
    "yönetici2 = Yönetici(\"Altun Keskin\",12500,\"Bilişim\")"
   ]
  },
  {
   "cell_type": "code",
   "execution_count": 16,
   "metadata": {},
   "outputs": [
    {
     "name": "stdout",
     "output_type": "stream",
     "text": [
      "Çalışan sınıfının bilgileri.....\n",
      "İsim : Altun Keskin \n",
      "Maaş: 12500 \n",
      "Departman: Bilişim\n",
      "\n"
     ]
    }
   ],
   "source": [
    "yönetici2.bilgilerigoster()"
   ]
  },
  {
   "cell_type": "code",
   "execution_count": 17,
   "metadata": {},
   "outputs": [
    {
     "name": "stdout",
     "output_type": "stream",
     "text": [
      "Maaşa zam yapılıyor....\n"
     ]
    }
   ],
   "source": [
    "yönetici2.zam_yap(500)"
   ]
  },
  {
   "cell_type": "code",
   "execution_count": 18,
   "metadata": {},
   "outputs": [
    {
     "name": "stdout",
     "output_type": "stream",
     "text": [
      "Çalışan sınıfının bilgileri.....\n",
      "İsim : Altun Keskin \n",
      "Maaş: 13000 \n",
      "Departman: Bilişim\n",
      "\n"
     ]
    }
   ],
   "source": [
    "yönetici2.bilgilerigoster()"
   ]
  },
  {
   "cell_type": "code",
   "execution_count": 1,
   "metadata": {},
   "outputs": [],
   "source": [
    "class Çalışan():\n",
    "    def __init__(self,isim,maaş,departman):\n",
    "        print(\"Çalışan sınıfının init fonksiyonu\")\n",
    "        self.isim = isim\n",
    "        self.maaş = maaş\n",
    "        self.departman = departman\n",
    "    def bilgilerigoster(self):\n",
    "        \n",
    "        print(\"Çalışan sınıfının bilgileri.....\")\n",
    "        \n",
    "        print(\"İsim : {} \\nMaaş: {} \\nDepartman: {}\\n\".format(self.isim,self.maaş,self.departman))\n",
    "    def departman_degistir(self,yeni_departman):\n",
    "        print(\"Departman değişiyor....\")\n",
    "        self.departman = yeni_departman"
   ]
  },
  {
   "cell_type": "code",
   "execution_count": 13,
   "metadata": {},
   "outputs": [],
   "source": [
    "class Yönetici(Çalışan):\n",
    "    \n",
    "    def __init__(self,isim,maaş,departman,kişi_sayısı): # Sorumlu olduğu kişi sayısı\n",
    "        print(\"Yönetici sınıfının init fonksiyonu\")\n",
    "        self.isim = isim\n",
    "        self.maaş = maaş\n",
    "        self.departman = departman\n",
    "        self.kişi_sayısı = kişi_sayısı # Yeni eklenen özellik\n",
    "    def bilgilerigoster(self):\n",
    "        \n",
    "        print(\"Yönetici sınıfının bilgileri.....\")\n",
    "        \n",
    "        print(\"İsim : {} \\nMaaş: {} \\nDepartman: {}\\nSorumlu kişi sayısı: {}\".format(self.isim,self.maaş,self.departman,self.kişi_sayısı))\n",
    "    def zam_yap(self,zam_miktarı):\n",
    "        print(\"Maaşa zam yapılıyor....\")\n",
    "        self.maaş += zam_miktarı"
   ]
  },
  {
   "cell_type": "code",
   "execution_count": 14,
   "metadata": {},
   "outputs": [
    {
     "name": "stdout",
     "output_type": "stream",
     "text": [
      "Yönetici sınıfının init fonksiyonu\n"
     ]
    }
   ],
   "source": [
    "yönetici = Yönetici(\"Altun Keskin\",13000,\"Bilişim\",10)"
   ]
  },
  {
   "cell_type": "code",
   "execution_count": 15,
   "metadata": {},
   "outputs": [
    {
     "name": "stdout",
     "output_type": "stream",
     "text": [
      "Yönetici sınıfının bilgileri.....\n",
      "İsim : Altun Keskin \n",
      "Maaş: 13000 \n",
      "Departman: Bilişim\n",
      "Sorumlu kişi sayısı: 10\n"
     ]
    }
   ],
   "source": [
    "yönetici.bilgilerigoster()"
   ]
  },
  {
   "cell_type": "code",
   "execution_count": 16,
   "metadata": {},
   "outputs": [],
   "source": [
    "class Çalışan():\n",
    "    def __init__(self,isim,maaş,departman):\n",
    "        print(\"Çalışan sınıfının init fonksiyonu\")\n",
    "        self.isim = isim\n",
    "        self.maaş = maaş\n",
    "        self.departman = departman\n",
    "    def bilgilerigoster(self):\n",
    "        \n",
    "        print(\"Çalışan sınıfının bilgileri.....\")\n",
    "        \n",
    "        print(\"İsim : {} \\nMaaş: {} \\nDepartman: {}\\n\".format(self.isim,self.maaş,self.departman))\n",
    "    def departman_degistir(self,yeni_departman):\n",
    "        print(\"Departman değişiyor....\")\n",
    "        self.departman = yeni_departman"
   ]
  },
  {
   "cell_type": "code",
   "execution_count": 17,
   "metadata": {},
   "outputs": [],
   "source": [
    "class Yönetici(Çalışan):\n",
    "    \n",
    "    def __init__(self,isim,maaş,departman,kişi_sayısı): # Sorumlu olduğu kişi sayısı\n",
    "        super().__init__(isim,maaş,departman) # 3 tane özelliği Çalışan fonksiyonunun init fonksiyonuyla hallediyoruz.\n",
    "        \n",
    "        print(\"Yönetici sınıfının init fonksiyonu\")\n",
    "        \n",
    "        self.kişi_sayısı = kişi_sayısı # Ekstra özelliği de kendimiz yazıyoruz.\n",
    "    def bilgilerigoster(self):\n",
    "        \n",
    "        print(\"Yönetici sınıfının bilgileri.....\")\n",
    "        \n",
    "        print(\"İsim : {} \\nMaaş: {} \\nDepartman: {}\\nSorumlu kişi sayısı: {}\".format(self.isim,self.maaş,self.departman,self.kişi_sayısı))\n",
    "    def zam_yap(self,zam_miktarı):\n",
    "        print(\"Maaşa zam yapılıyor....\")\n",
    "        self.maaş += zam_miktarı"
   ]
  },
  {
   "cell_type": "code",
   "execution_count": 19,
   "metadata": {},
   "outputs": [
    {
     "name": "stdout",
     "output_type": "stream",
     "text": [
      "Çalışan sınıfının init fonksiyonu\n",
      "Yönetici sınıfının init fonksiyonu\n"
     ]
    }
   ],
   "source": [
    "vicepresident = Yönetici(\"Selda Caglayan\",5000,\"İnsan Kaynakları\",14)"
   ]
  },
  {
   "cell_type": "code",
   "execution_count": 20,
   "metadata": {},
   "outputs": [
    {
     "name": "stdout",
     "output_type": "stream",
     "text": [
      "Yönetici sınıfının bilgileri.....\n",
      "İsim : Selda Caglayan \n",
      "Maaş: 5000 \n",
      "Departman: İnsan Kaynakları\n",
      "Sorumlu kişi sayısı: 14\n"
     ]
    }
   ],
   "source": [
    "vicepresident.bilgilerigoster()"
   ]
  },
  {
   "cell_type": "code",
   "execution_count": null,
   "metadata": {},
   "outputs": [],
   "source": []
  }
 ],
 "metadata": {
  "kernelspec": {
   "display_name": "Python 3",
   "language": "python",
   "name": "python3"
  },
  "language_info": {
   "codemirror_mode": {
    "name": "ipython",
    "version": 3
   },
   "file_extension": ".py",
   "mimetype": "text/x-python",
   "name": "python",
   "nbconvert_exporter": "python",
   "pygments_lexer": "ipython3",
   "version": "3.8.5"
  }
 },
 "nbformat": 4,
 "nbformat_minor": 4
}
