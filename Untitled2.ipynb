{
 "cells": [
  {
   "cell_type": "markdown",
   "metadata": {},
   "source": [
    "* https://medium.com/herkes-i%C3%A7in-python/python-decorators-45aac5308fb"
   ]
  },
  {
   "cell_type": "markdown",
   "metadata": {},
   "source": [
    "## Birinci Sınıf Nesne Nedir?\n",
    "Dinamik olarak oluşturulabilen, yok edilebilen, bir fonksiyona parametre olarak verilebilen ya da bir fonksiyondan sonuç değeri olarak döndürülebilen, değişkenlerle aynı haklara sakip varlıklara birinci sınıf nesne ya da birinci sınıf vatandaş denir."
   ]
  },
  {
   "cell_type": "markdown",
   "metadata": {},
   "source": [
    "* Anonim olarak ifade edilebilir.\n",
    "* Değişkenlerde ya da veri yapılarında saklanabilir.\n",
    "* Kendi isminden bağımsız benzersiz bir ismi vardır.\n",
    "* Diğer varlıklarla karşılaştırma operatörlerine tabi tutulabilir.\n",
    "* Fonksiyonlara parametre olarak gönderilebilir.\n",
    "* Fonksiyonlardan sonuç değeri olarak döndürülebilir.\n",
    "* Okunabilir ve yazılabilir.\n",
    "* Çalışma zamanında (runtime)oluşturulabilir.\n",
    "* Dağıtık işlemler arasında iletilebilir.\n",
    "* Çalışan işlemler dışında saklanabilir."
   ]
  },
  {
   "cell_type": "code",
   "execution_count": 1,
   "metadata": {},
   "outputs": [
    {
     "name": "stdout",
     "output_type": "stream",
     "text": [
      "add: <function add at 0x00000144B62FEA60>\n",
      "add.__name__: add\n",
      "add(2, 3): 5\n",
      "type(add): <class 'function'>\n"
     ]
    }
   ],
   "source": [
    "def add(x, y):\n",
    "    return x + y\n",
    "\n",
    "print('add: {}'.format(add))\n",
    "print('add.__name__: {}'.format(add.__name__))\n",
    "print('add(2, 3): {}'.format(add(2, 3)))\n",
    "print('type(add): {}'.format(type(add)))"
   ]
  },
  {
   "cell_type": "code",
   "execution_count": 2,
   "metadata": {},
   "outputs": [
    {
     "name": "stdout",
     "output_type": "stream",
     "text": [
      "call_function(add, 2, 3): 5\n"
     ]
    }
   ],
   "source": [
    "def call_function(func, *args):\n",
    "    return func(*args)\n",
    "\n",
    "print('call_function(add, 2, 3): {}'.format(\n",
    "    call_function(add, 2, 3)\n",
    "))"
   ]
  },
  {
   "cell_type": "code",
   "execution_count": 3,
   "metadata": {},
   "outputs": [],
   "source": [
    "del add"
   ]
  },
  {
   "cell_type": "markdown",
   "metadata": {},
   "source": [
    "## İç İçe Fonksiyonlar\n",
    "* Dekoratörler, temelde alınan parametreyi iç fonksiyona (wrapper) gönderen ve geriye de bu fonksiyonu döndüren fonksiyonlardır. İç fonksiyonları dekoratör yazmadığınız durumlarda da kullanabilirsiniz.\n",
    "* Kapsülleme (Encapsulation)\n",
    "* Yazdığınız fonksiyonları, dışarıdan gelecek bir müdahaleden korumak için kullanabilirsiniz. Herhangi bir iç fonksiyon global alandan erişilemeyecektir."
   ]
  },
  {
   "cell_type": "code",
   "execution_count": 4,
   "metadata": {},
   "outputs": [
    {
     "name": "stdout",
     "output_type": "stream",
     "text": [
      "24\n"
     ]
    }
   ],
   "source": [
    "def factorial(n: int):\n",
    "    assert type(n) == int\n",
    "    assert n >= 0\n",
    "\n",
    "    def fact(n):\n",
    "        if n <= 1:\n",
    "            return 1\n",
    "        return n * fact(n - 1)\n",
    "\n",
    "    return fact(n)\n",
    "\n",
    "print(factorial(4))"
   ]
  },
  {
   "cell_type": "code",
   "execution_count": 5,
   "metadata": {},
   "outputs": [],
   "source": [
    "class User(object):\n",
    "    is_active = True\n",
    "\n",
    "    def __init__(self, name, permissions):\n",
    "        \"\"\"\n",
    "        :param name: string\n",
    "        :param permissions: list\n",
    "        \"\"\"\n",
    "        self.name = name\n",
    "        self.permissions = permissions\n"
   ]
  },
  {
   "cell_type": "code",
   "execution_count": 6,
   "metadata": {},
   "outputs": [],
   "source": [
    "def validate_user(user):\n",
    "    def check(value, necessary_type):\n",
    "        if type(value) == necessary_type:\n",
    "            print(\"- {value}'s type is OK\".format(value=value))\n",
    "        else:\n",
    "            raise TypeError(\"{value}'s type should be {type}.\".format(\n",
    "                value=value,\n",
    "                type=necessary_type\n",
    "            ))\n",
    "\n",
    "    check(user.name, str)\n",
    "    check(user.is_active, bool)\n",
    "    check(user.permissions, list)\n",
    "    for permission in user.permissions:\n",
    "        check(permission, str)\n"
   ]
  },
  {
   "cell_type": "code",
   "execution_count": 7,
   "metadata": {},
   "outputs": [
    {
     "name": "stdout",
     "output_type": "stream",
     "text": [
      "- umutcoskun's type is OK\n",
      "- True's type is OK\n",
      "- ['can_view_dashboard']'s type is OK\n",
      "- can_view_dashboard's type is OK\n"
     ]
    }
   ],
   "source": [
    "user = User('umutcoskun', ['can_view_dashboard'])\n",
    "validate_user(user)"
   ]
  },
  {
   "cell_type": "code",
   "execution_count": 8,
   "metadata": {},
   "outputs": [
    {
     "ename": "NameError",
     "evalue": "name 'decorator' is not defined",
     "output_type": "error",
     "traceback": [
      "\u001b[1;31m---------------------------------------------------------------------------\u001b[0m",
      "\u001b[1;31mNameError\u001b[0m                                 Traceback (most recent call last)",
      "\u001b[1;32m<ipython-input-8-afbedba6a067>\u001b[0m in \u001b[0;36m<module>\u001b[1;34m\u001b[0m\n\u001b[0;32m      1\u001b[0m \u001b[1;31m# Yöntem 1:\u001b[0m\u001b[1;33m\u001b[0m\u001b[1;33m\u001b[0m\u001b[1;33m\u001b[0m\u001b[0m\n\u001b[1;32m----> 2\u001b[1;33m \u001b[1;33m@\u001b[0m\u001b[0mdecorator\u001b[0m\u001b[1;33m\u001b[0m\u001b[1;33m\u001b[0m\u001b[0m\n\u001b[0m\u001b[0;32m      3\u001b[0m \u001b[1;32mdef\u001b[0m \u001b[0mfunc\u001b[0m\u001b[1;33m(\u001b[0m\u001b[1;33m)\u001b[0m\u001b[1;33m:\u001b[0m\u001b[1;33m\u001b[0m\u001b[1;33m\u001b[0m\u001b[0m\n\u001b[0;32m      4\u001b[0m     \u001b[1;32mpass\u001b[0m\u001b[1;33m\u001b[0m\u001b[1;33m\u001b[0m\u001b[0m\n\u001b[0;32m      5\u001b[0m \u001b[1;33m\u001b[0m\u001b[0m\n",
      "\u001b[1;31mNameError\u001b[0m: name 'decorator' is not defined"
     ]
    }
   ],
   "source": [
    "# Yöntem 1:\n",
    "@decorator\n",
    "def func():\n",
    "    pass\n",
    "\n",
    "# Yöntem 2:\n",
    "def func():\n",
    "    pass\n",
    "    \n",
    "func = decorator(func)"
   ]
  },
  {
   "cell_type": "code",
   "execution_count": null,
   "metadata": {},
   "outputs": [],
   "source": []
  }
 ],
 "metadata": {
  "kernelspec": {
   "display_name": "Python 3",
   "language": "python",
   "name": "python3"
  },
  "language_info": {
   "codemirror_mode": {
    "name": "ipython",
    "version": 3
   },
   "file_extension": ".py",
   "mimetype": "text/x-python",
   "name": "python",
   "nbconvert_exporter": "python",
   "pygments_lexer": "ipython3",
   "version": "3.8.5"
  }
 },
 "nbformat": 4,
 "nbformat_minor": 4
}
