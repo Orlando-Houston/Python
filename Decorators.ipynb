{
 "cells": [
  {
   "cell_type": "markdown",
   "id": "julian-garage",
   "metadata": {},
   "source": [
    "##  Decorators\n",
    "* ir decorator fonksiyonu alır, bazı fonksiyonellikler ekler ve onu döndürür. \n",
    "* Meta programlama olarak bilinen ve derleme sırasında (burada yorumlama) programın parçalarının diğer program parçalarını değiştirmeyi denemesi olarak açıklanabilir.\n",
    "* Python’da her şey bir nesnedir (object). Tanımladığınız isimler bu nesnelere bağlanmak için kullanılır.\n",
    "* Fonksiyonlarda birer nesnedir. \n",
    "* Hatta aynı fonksiyon çeşitli adlarla tanımlanabilir.\n",
    "* https://erdincuzun.com/python/14-2-decorators/"
   ]
  },
  {
   "cell_type": "code",
   "execution_count": 1,
   "id": "uniform-contact",
   "metadata": {},
   "outputs": [],
   "source": [
    "def ilk_func(msg):\n",
    "    print(msg)    \n",
    " \n",
    "\n",
    " \n",
    "\n",
    " \n"
   ]
  },
  {
   "cell_type": "code",
   "execution_count": 2,
   "id": "vertical-despite",
   "metadata": {},
   "outputs": [
    {
     "name": "stdout",
     "output_type": "stream",
     "text": [
      "Merhaba\n"
     ]
    }
   ],
   "source": [
    "ilk_func(\"Merhaba\")"
   ]
  },
  {
   "cell_type": "code",
   "execution_count": 3,
   "id": "raising-traveler",
   "metadata": {},
   "outputs": [
    {
     "name": "stdout",
     "output_type": "stream",
     "text": [
      "Merhaba\n"
     ]
    }
   ],
   "source": [
    "ikinci = ilk_func\n",
    "ikinci(\"Merhaba\")"
   ]
  },
  {
   "cell_type": "code",
   "execution_count": 5,
   "id": "considered-depression",
   "metadata": {},
   "outputs": [
    {
     "name": "stdout",
     "output_type": "stream",
     "text": [
      "1671641235312\n"
     ]
    }
   ],
   "source": [
    "print(id(ilk_func))\n"
   ]
  },
  {
   "cell_type": "code",
   "execution_count": 6,
   "id": "controversial-hungarian",
   "metadata": {},
   "outputs": [
    {
     "ename": "SyntaxError",
     "evalue": "unexpected EOF while parsing (<ipython-input-6-b8acb6e75d81>, line 1)",
     "output_type": "error",
     "traceback": [
      "\u001b[1;36m  File \u001b[1;32m\"<ipython-input-6-b8acb6e75d81>\"\u001b[1;36m, line \u001b[1;32m1\u001b[0m\n\u001b[1;33m    print(id(ikinci)\u001b[0m\n\u001b[1;37m                    ^\u001b[0m\n\u001b[1;31mSyntaxError\u001b[0m\u001b[1;31m:\u001b[0m unexpected EOF while parsing\n"
     ]
    }
   ],
   "source": [
    "print(id(ikinci)"
   ]
  },
  {
   "cell_type": "code",
   "execution_count": 7,
   "id": "subsequent-basin",
   "metadata": {},
   "outputs": [
    {
     "name": "stdout",
     "output_type": "stream",
     "text": [
      "Merhaba\n",
      "Merhaba\n",
      "1671641379600\n",
      "1671641379600\n"
     ]
    }
   ],
   "source": [
    "def ilk_func(msg):\n",
    "    print(msg)    \n",
    "\n",
    "ilk_func(\"Merhaba\")\n",
    "\n",
    "ikinci = ilk_func\n",
    "ikinci(\"Merhaba\")\n",
    "\n",
    "print(id(ilk_func))\n",
    "print(id(ikinci))"
   ]
  },
  {
   "cell_type": "markdown",
   "id": "personalized-boating",
   "metadata": {},
   "source": [
    "##  Kodu çalıştırdığınızda hem ilk_func hem de ikinci aynı sonucu döndürür. Hatta, id fonksiyonu ile bellek bölgelerine baktığımızda aynı bellek bölgesini işaret eder. Fonksiyon içinden fonksiyonu değer olarak göndermeyi destekler. Bunlara daha öncelikli fonksiyonlar ismi verilir. Örneğin,"
   ]
  },
  {
   "cell_type": "code",
   "execution_count": 8,
   "id": "alone-capture",
   "metadata": {},
   "outputs": [
    {
     "name": "stdout",
     "output_type": "stream",
     "text": [
      "5\n",
      "3\n"
     ]
    }
   ],
   "source": [
    "def arttir(x):\n",
    "    return x + 1\n",
    " \n",
    "def azalt(x):\n",
    "    return x - 1\n",
    " \n",
    "def islem(func, x):\n",
    "    result = func(x)\n",
    "    return result\n",
    " \n",
    "print(islem(arttir, 4))\n",
    "print(islem(azalt, 4))\n"
   ]
  },
  {
   "cell_type": "markdown",
   "id": "arabic-commonwealth",
   "metadata": {},
   "source": [
    "##   Hatta, bir fonksiyon diğer bir fonksiyonu döndürebilir."
   ]
  },
  {
   "cell_type": "code",
   "execution_count": 9,
   "id": "covered-gospel",
   "metadata": {},
   "outputs": [
    {
     "name": "stdout",
     "output_type": "stream",
     "text": [
      "Merhaba\n"
     ]
    }
   ],
   "source": [
    "def cagrilan():\n",
    "    def donen():\n",
    "        print(\"Merhaba\")\n",
    "    return donen\n",
    " \n",
    "yeni = cagrilan()\n",
    "yeni()"
   ]
  },
  {
   "cell_type": "markdown",
   "id": "impressed-second",
   "metadata": {},
   "source": [
    "##  .Fonksiyon ve metotlar çağrılabilirdir. __call__() özel metodu ile herhangi bir nesneye çağırma işlemi uygulanabilir. Bir decorator’de çağrılabilen bir nesnedir. Temel olarak bir decorator bir fonksiyonu alır, yeni fonksiyonellikler ekler ve döndürür.\n",
    "\n"
   ]
  },
  {
   "cell_type": "code",
   "execution_count": 10,
   "id": "modified-acceptance",
   "metadata": {},
   "outputs": [
    {
     "name": "stdout",
     "output_type": "stream",
     "text": [
      "Ana fonksiyon\n",
      "Decorate durum\n",
      "Ana fonksiyon\n"
     ]
    }
   ],
   "source": [
    "def decorator_ornek(func):\n",
    "    def ic_fonksiyon():\n",
    "        print(\"Decorate durum\")\n",
    "        func()\n",
    "    return ic_fonksiyon\n",
    " \n",
    "def fonksiyon():\n",
    "    print(\"Ana fonksiyon\")\n",
    "    \n",
    " \n",
    "fonksiyon()\n",
    "nesne = decorator_ornek(fonksiyon)\n",
    "nesne()\n"
   ]
  },
  {
   "cell_type": "code",
   "execution_count": null,
   "id": "diverse-lambda",
   "metadata": {},
   "outputs": [],
   "source": []
  },
  {
   "cell_type": "markdown",
   "id": "ranking-abortion",
   "metadata": {},
   "source": [
    " * nesne = decorator_ornek\n",
    "\n",
    " * (fonksiyon) nesne()"
   ]
  },
  {
   "cell_type": "code",
   "execution_count": 11,
   "id": "capable-patch",
   "metadata": {},
   "outputs": [
    {
     "name": "stdout",
     "output_type": "stream",
     "text": [
      "Decorate durum\n",
      "Ana fonksiyon 2\n"
     ]
    }
   ],
   "source": [
    "@decorator_ornek\n",
    "def fonksiyon():\n",
    "    print(\"Ana fonksiyon 2\")\n",
    "    \n",
    "fonksiyon()"
   ]
  },
  {
   "cell_type": "code",
   "execution_count": null,
   "id": "august-lounge",
   "metadata": {},
   "outputs": [],
   "source": [
    "## parameter with Decorators"
   ]
  },
  {
   "cell_type": "code",
   "execution_count": 13,
   "id": "small-advisory",
   "metadata": {},
   "outputs": [
    {
     "name": "stdout",
     "output_type": "stream",
     "text": [
      "0.4\n",
      "0.0\n"
     ]
    },
    {
     "ename": "ZeroDivisionError",
     "evalue": "division by zero",
     "output_type": "error",
     "traceback": [
      "\u001b[1;31m---------------------------------------------------------------------------\u001b[0m",
      "\u001b[1;31mZeroDivisionError\u001b[0m                         Traceback (most recent call last)",
      "\u001b[1;32m<ipython-input-13-a0885b13b8bc>\u001b[0m in \u001b[0;36m<module>\u001b[1;34m\u001b[0m\n\u001b[0;32m      4\u001b[0m \u001b[0mprint\u001b[0m\u001b[1;33m(\u001b[0m\u001b[0mbol\u001b[0m\u001b[1;33m(\u001b[0m\u001b[1;36m2\u001b[0m\u001b[1;33m,\u001b[0m\u001b[1;36m5\u001b[0m\u001b[1;33m)\u001b[0m\u001b[1;33m)\u001b[0m\u001b[1;33m\u001b[0m\u001b[1;33m\u001b[0m\u001b[0m\n\u001b[0;32m      5\u001b[0m \u001b[0mprint\u001b[0m\u001b[1;33m(\u001b[0m\u001b[0mbol\u001b[0m\u001b[1;33m(\u001b[0m\u001b[1;36m0\u001b[0m\u001b[1;33m,\u001b[0m\u001b[1;36m5\u001b[0m\u001b[1;33m)\u001b[0m\u001b[1;33m)\u001b[0m\u001b[1;33m\u001b[0m\u001b[1;33m\u001b[0m\u001b[0m\n\u001b[1;32m----> 6\u001b[1;33m \u001b[0mprint\u001b[0m\u001b[1;33m(\u001b[0m\u001b[0mbol\u001b[0m\u001b[1;33m(\u001b[0m\u001b[1;36m2\u001b[0m\u001b[1;33m,\u001b[0m\u001b[1;36m0\u001b[0m\u001b[1;33m)\u001b[0m\u001b[1;33m)\u001b[0m \u001b[1;31m# sıfıra bölme hatası döndürür\u001b[0m\u001b[1;33m\u001b[0m\u001b[1;33m\u001b[0m\u001b[0m\n\u001b[0m",
      "\u001b[1;32m<ipython-input-13-a0885b13b8bc>\u001b[0m in \u001b[0;36mbol\u001b[1;34m(a, b)\u001b[0m\n\u001b[0;32m      1\u001b[0m \u001b[1;32mdef\u001b[0m \u001b[0mbol\u001b[0m\u001b[1;33m(\u001b[0m\u001b[0ma\u001b[0m\u001b[1;33m,\u001b[0m \u001b[0mb\u001b[0m\u001b[1;33m)\u001b[0m\u001b[1;33m:\u001b[0m\u001b[1;33m\u001b[0m\u001b[1;33m\u001b[0m\u001b[0m\n\u001b[1;32m----> 2\u001b[1;33m     \u001b[1;32mreturn\u001b[0m \u001b[0ma\u001b[0m\u001b[1;33m/\u001b[0m\u001b[0mb\u001b[0m\u001b[1;33m\u001b[0m\u001b[1;33m\u001b[0m\u001b[0m\n\u001b[0m\u001b[0;32m      3\u001b[0m \u001b[1;33m\u001b[0m\u001b[0m\n\u001b[0;32m      4\u001b[0m \u001b[0mprint\u001b[0m\u001b[1;33m(\u001b[0m\u001b[0mbol\u001b[0m\u001b[1;33m(\u001b[0m\u001b[1;36m2\u001b[0m\u001b[1;33m,\u001b[0m\u001b[1;36m5\u001b[0m\u001b[1;33m)\u001b[0m\u001b[1;33m)\u001b[0m\u001b[1;33m\u001b[0m\u001b[1;33m\u001b[0m\u001b[0m\n\u001b[0;32m      5\u001b[0m \u001b[0mprint\u001b[0m\u001b[1;33m(\u001b[0m\u001b[0mbol\u001b[0m\u001b[1;33m(\u001b[0m\u001b[1;36m0\u001b[0m\u001b[1;33m,\u001b[0m\u001b[1;36m5\u001b[0m\u001b[1;33m)\u001b[0m\u001b[1;33m)\u001b[0m\u001b[1;33m\u001b[0m\u001b[1;33m\u001b[0m\u001b[0m\n",
      "\u001b[1;31mZeroDivisionError\u001b[0m: division by zero"
     ]
    }
   ],
   "source": [
    "def bol(a, b):\n",
    "    return a/b\n",
    "\n",
    "print(bol(2,5))\n",
    "print(bol(0,5))\n",
    "print(bol(2,0)) # sıfıra bölme hatası döndürür"
   ]
  },
  {
   "cell_type": "code",
   "execution_count": 14,
   "id": "patient-eagle",
   "metadata": {},
   "outputs": [
    {
     "name": "stdout",
     "output_type": "stream",
     "text": [
      "Bölme işlemi:  2 and 5\n",
      "0.4\n",
      "Bölme işlemi:  0 and 5\n",
      "0.0\n",
      "Bölme işlemi:  2 and 0\n",
      "Hoooppp, böyle bir bölme olmaz.\n",
      "None\n"
     ]
    }
   ],
   "source": [
    "def akilli_bolme(func):\n",
    "    def inner(a,b):\n",
    "        print(\"Bölme işlemi: \", a, \"and\" , b)\n",
    "        if b == 0:\n",
    "            print(\"Hoooppp, böyle bir bölme olmaz.\")\n",
    "            return\n",
    "        return func(a,b)\n",
    "    return inner\n",
    " \n",
    "@akilli_bolme\n",
    "def bol(a,b):\n",
    "    return a/b\n",
    " \n",
    "print(bol(2,5))\n",
    "print(bol(0,5))\n",
    "print(bol(2,0))"
   ]
  },
  {
   "cell_type": "code",
   "execution_count": 15,
   "id": "standing-flour",
   "metadata": {},
   "outputs": [],
   "source": [
    "def tumunde_calisir(func):\n",
    "    def inner(*args, **kwargs):\n",
    "        print(\"Herhangi bir fonksiyonu decorate edebilir.\")\n",
    "        return func(*args, **kwargs)\n",
    "    return inner"
   ]
  },
  {
   "cell_type": "markdown",
   "id": "wired-easter",
   "metadata": {},
   "source": [
    "# Decorators Zincirleme (Chaining)"
   ]
  },
  {
   "cell_type": "code",
   "execution_count": 16,
   "id": "collaborative-expert",
   "metadata": {},
   "outputs": [
    {
     "name": "stdout",
     "output_type": "stream",
     "text": [
      "******************************\n",
      "%%%%%%%%%%%%%%%%%%%%%%%%%%%%%%\n",
      "Merhaba\n",
      "%%%%%%%%%%%%%%%%%%%%%%%%%%%%%%\n",
      "******************************\n"
     ]
    }
   ],
   "source": [
    "def yildiz(func):\n",
    "    def inner(*args, **kwargs):\n",
    "        print(\"*\" * 30)\n",
    "        func(*args, **kwargs)\n",
    "        print(\"*\" * 30)\n",
    "    return inner\n",
    " \n",
    "def yuzde(func):\n",
    "    def inner(*args, **kwargs):\n",
    "        print(\"%\" * 30)\n",
    "        func(*args, **kwargs)\n",
    "        print(\"%\" * 30)\n",
    "    return inner\n",
    " \n",
    "@yildiz\n",
    "@yuzde\n",
    "def yaz(msg):\n",
    "    print(msg)\n",
    " \n",
    "yaz(\"Merhaba\")\n"
   ]
  },
  {
   "cell_type": "code",
   "execution_count": 17,
   "id": "discrete-latino",
   "metadata": {},
   "outputs": [
    {
     "name": "stdout",
     "output_type": "stream",
     "text": [
      "%%%%%%%%%%%%%%%%%%%%%%%%%%%%%%\n",
      "******************************\n",
      "Merhaba\n",
      "******************************\n",
      "%%%%%%%%%%%%%%%%%%%%%%%%%%%%%%\n"
     ]
    }
   ],
   "source": [
    "@yuzde\n",
    "@yildiz\n",
    "def yaz(msg):\n",
    "    print(msg)\n",
    " \n",
    "yaz(\"Merhaba\")\n"
   ]
  },
  {
   "cell_type": "code",
   "execution_count": null,
   "id": "chicken-salmon",
   "metadata": {},
   "outputs": [],
   "source": []
  }
 ],
 "metadata": {
  "kernelspec": {
   "display_name": "Python 3",
   "language": "python",
   "name": "python3"
  },
  "language_info": {
   "codemirror_mode": {
    "name": "ipython",
    "version": 3
   },
   "file_extension": ".py",
   "mimetype": "text/x-python",
   "name": "python",
   "nbconvert_exporter": "python",
   "pygments_lexer": "ipython3",
   "version": "3.9.1"
  }
 },
 "nbformat": 4,
 "nbformat_minor": 5
}
