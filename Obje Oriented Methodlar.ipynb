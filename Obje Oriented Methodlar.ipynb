{
 "cells": [
  {
   "cell_type": "code",
   "execution_count": 30,
   "metadata": {},
   "outputs": [],
   "source": [
    "class Programmer():\n",
    "    def __init__(self,name,lastName,number,salary,languages):\n",
    "        self.name = name\n",
    "        self.lastName = lastName\n",
    "        self.number = number    \n",
    "        self.salary = salary\n",
    "        self.languages = languages\n",
    "        \n",
    "        \n",
    "    def displayinformation(self):\n",
    "            print(\"\"\"\n",
    "    \n",
    "    properties of programmer object\n",
    "    \n",
    "    name :{}\n",
    "    \n",
    "    lastName :{}\n",
    "    \n",
    "    number :{}\n",
    "    \n",
    "    salary : {}\n",
    "    \n",
    "    languages known the programmer : {}\n",
    "    \n",
    "    \n",
    "    \n",
    "    \"\"\" .format(self.name,self.lastName,self.number,self.salary,self.languages))\n",
    "    def make_raise(self,raise_amount):\n",
    "        print(\"There is a raise\")\n",
    "        \n",
    "        self.salary += raise_amount\n",
    "        \n",
    "\n",
    "        \n",
    "\n",
    "\n",
    "\n",
    "\n",
    "\n"
   ]
  },
  {
   "cell_type": "code",
   "execution_count": 31,
   "metadata": {},
   "outputs": [],
   "source": [
    "programmer = Programmer(\"Altun\",\"Keskin\",1234,12200,[\"Java\",\"Python\"])"
   ]
  },
  {
   "cell_type": "code",
   "execution_count": 32,
   "metadata": {},
   "outputs": [
    {
     "data": {
      "text/plain": [
       "<__main__.Programmer at 0x21c641524f0>"
      ]
     },
     "execution_count": 32,
     "metadata": {},
     "output_type": "execute_result"
    }
   ],
   "source": [
    "programmer"
   ]
  },
  {
   "cell_type": "code",
   "execution_count": 33,
   "metadata": {},
   "outputs": [
    {
     "name": "stdout",
     "output_type": "stream",
     "text": [
      "\n",
      "    \n",
      "    properties of programmer object\n",
      "    \n",
      "    name :Altun\n",
      "    \n",
      "    lastName :Keskin\n",
      "    \n",
      "    number :1234\n",
      "    \n",
      "    salary : 12200\n",
      "    \n",
      "    languages known the programmer : ['Java', 'Python']\n",
      "    \n",
      "    \n",
      "    \n",
      "    \n"
     ]
    }
   ],
   "source": [
    "programmer.displayinformation()"
   ]
  },
  {
   "cell_type": "code",
   "execution_count": 34,
   "metadata": {},
   "outputs": [
    {
     "name": "stdout",
     "output_type": "stream",
     "text": [
      "There id a raise\n"
     ]
    }
   ],
   "source": [
    "programmer.make_raise(300)"
   ]
  },
  {
   "cell_type": "code",
   "execution_count": 35,
   "metadata": {},
   "outputs": [
    {
     "name": "stdout",
     "output_type": "stream",
     "text": [
      "\n",
      "    \n",
      "    properties of programmer object\n",
      "    \n",
      "    name :Altun\n",
      "    \n",
      "    lastName :Keskin\n",
      "    \n",
      "    number :1234\n",
      "    \n",
      "    salary : 12500\n",
      "    \n",
      "    languages known the programmer : ['Java', 'Python']\n",
      "    \n",
      "    \n",
      "    \n",
      "    \n"
     ]
    }
   ],
   "source": [
    "programmer.displayinformation()"
   ]
  },
  {
   "cell_type": "code",
   "execution_count": null,
   "metadata": {},
   "outputs": [],
   "source": []
  }
 ],
 "metadata": {
  "kernelspec": {
   "display_name": "Python 3",
   "language": "python",
   "name": "python3"
  },
  "language_info": {
   "codemirror_mode": {
    "name": "ipython",
    "version": 3
   },
   "file_extension": ".py",
   "mimetype": "text/x-python",
   "name": "python",
   "nbconvert_exporter": "python",
   "pygments_lexer": "ipython3",
   "version": "3.8.5"
  }
 },
 "nbformat": 4,
 "nbformat_minor": 4
}
