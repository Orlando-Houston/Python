{
 "cells": [
  {
   "cell_type": "code",
   "execution_count": 2,
   "id": "academic-roulette",
   "metadata": {},
   "outputs": [
    {
     "ename": "SyntaxError",
     "evalue": "'return' outside function (<ipython-input-2-184f05bc4bfd>, line 14)",
     "output_type": "error",
     "traceback": [
      "\u001b[1;36m  File \u001b[1;32m\"<ipython-input-2-184f05bc4bfd>\"\u001b[1;36m, line \u001b[1;32m14\u001b[0m\n\u001b[1;33m    return ekstra_ozellik\u001b[0m\n\u001b[1;37m                         ^\u001b[0m\n\u001b[1;31mSyntaxError\u001b[0m\u001b[1;31m:\u001b[0m 'return' outside function\n"
     ]
    }
   ],
   "source": [
    "    \n",
    "    def ekstra_ozellik():\n",
    "        print(\"Mükemmel Sayılar...\")\n",
    "        for sayı in range(1,1001):\n",
    "            toplam = 0\n",
    "            i = 1\n",
    "            while (i < sayı):\n",
    "                if (sayı % i == 0):\n",
    "                    toplam += i\n",
    "                i +=1\n",
    "            if (toplam == sayı):\n",
    "                print(sayı)\n",
    "        fonk()\n",
    "                \n",
    "    return ekstra_ozellik\n",
    "    \n",
    "\n",
    "\n",
    "@ekstra\n",
    "def asal_sayılar():\n",
    "      print(\"Asal Sayılar...\")\n",
    "    for sayı in range(2,1001):\n",
    "        i = 2 \n",
    "        say = 0\n",
    "        while (i < sayı):\n",
    "            if (sayı % i == 0):\n",
    "                say += 1\n",
    "            i += 1\n",
    "        if (say == 0):\n",
    "            print(sayı)\n",
    "            \n",
    "asal_sayılar()        \n",
    "    "
   ]
  },
  {
   "cell_type": "code",
   "execution_count": null,
   "id": "respiratory-patrol",
   "metadata": {},
   "outputs": [],
   "source": []
  }
 ],
 "metadata": {
  "kernelspec": {
   "display_name": "Python 3",
   "language": "python",
   "name": "python3"
  },
  "language_info": {
   "codemirror_mode": {
    "name": "ipython",
    "version": 3
   },
   "file_extension": ".py",
   "mimetype": "text/x-python",
   "name": "python",
   "nbconvert_exporter": "python",
   "pygments_lexer": "ipython3",
   "version": "3.7.6"
  }
 },
 "nbformat": 4,
 "nbformat_minor": 5
}
