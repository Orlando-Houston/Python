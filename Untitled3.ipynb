{
 "cells": [
  {
   "cell_type": "code",
   "execution_count": 1,
   "metadata": {},
   "outputs": [],
   "source": [
    "import numpy as np\n",
    "import matplotlib.pyplot as plt\n",
    "%matplotlib inline\n",
    "x = np.arange(51)\n",
    "y = np.arange(0,101,2)\n",
    "z = x ** 3"
   ]
  },
  {
   "cell_type": "markdown",
   "metadata": {},
   "source": [
    "####  Part - 1\n",
    "    1. Figure Oluşturun.\n",
    "    2. Oluşturduğunuz Figure'ün hepsini kaplayacak bir axes ekleyin.\n",
    "    3. Aşağıdaki grafiğe benzer bir grafik oluşturun."
   ]
  },
  {
   "cell_type": "code",
   "execution_count": 6,
   "metadata": {},
   "outputs": [
    {
     "data": {
      "image/png": "[encoded data removed]",
      "text/plain": [
       "<Figure size 432x288 with 1 Axes>"
      ]
     },
     "metadata": {
      "needs_background": "light"
     },
     "output_type": "display_data"
    }
   ],
   "source": [
    "fig = plt.figure()\n",
    "axes = fig.add_axes([0,0,1,1])\n",
    "axes.plot(x,y ,color = \"green\")\n",
    "axes.set_label (\"X Values\")\n",
    "axes.set_label(\"Y Values\")\n",
    "axes.set_title(\"X vs Y Graph\")\n",
    "plt.show()"
   ]
  },
  {
   "cell_type": "markdown",
   "metadata": {},
   "source": [
    "#### Part - 2\n",
    "    1. Figure Size'ı (8,6) olan bir figure Oluşturun\n",
    "    2. axes1 ve axes2 adında 2 adet axes oluşturun.(axes1 pozisyonu = [0,0.1,0.8,0.8], axes2          pozisyonu = [0.1,0.5,0.4,0.3])\n",
    "    3. axes1 üzerinde x vs z grafiğini, axes2 üzerinde x vs y grafiğini çizin ve aşağıdaki \n",
    "    grafiğe benzer bir grafik oluşturun. "
   ]
  },
  {
   "cell_type": "code",
   "execution_count": 17,
   "metadata": {},
   "outputs": [
    {
     "name": "stderr",
     "output_type": "stream",
     "text": [
      "<ipython-input-17-8f3138ab4e45>:3: MatplotlibDeprecationWarning: Adding an axes using the same arguments as a previous axes currently reuses the earlier instance.  In a future version, a new instance will always be created and returned.  Meanwhile, this warning can be suppressed, and the future behavior ensured, by passing a unique label to each axes instance.\n",
      "  axes1 = fig.add_axes([0,0.1,0.8,0.8])\n",
      "<ipython-input-17-8f3138ab4e45>:4: MatplotlibDeprecationWarning: Adding an axes using the same arguments as a previous axes currently reuses the earlier instance.  In a future version, a new instance will always be created and returned.  Meanwhile, this warning can be suppressed, and the future behavior ensured, by passing a unique label to each axes instance.\n",
      "  axes2 = fig.add_axes([0.1,0.5,0.4,0.3])\n"
     ]
    },
    {
     "data": {
      "text/plain": [
       "<Figure size 576x432 with 0 Axes>"
      ]
     },
     "metadata": {},
     "output_type": "display_data"
    }
   ],
   "source": [
    "fg =plt.figure(figsize =(8,6))\n",
    "\n",
    "axes1 = fig.add_axes([0,0.1,0.8,0.8])\n",
    "axes2 = fig.add_axes([0.1,0.5,0.4,0.3])\n",
    "\n",
    "axes1.plot(x,z,color =\"navy\")\n",
    "axes1.set_title(\"Outer Graph -X vs Z Graph\")\n",
    "\n",
    "\n",
    "axes2.plot(x,y ,color = \"green\")\n",
    "axes2.set_title(\"InnerGraph - X vs Y Graph\")\n",
    "plt.show()"
   ]
  },
  {
   "cell_type": "markdown",
   "metadata": {},
   "source": [
    "#### Part - 3\n",
    "1. 2 adet yanyana subplot oluşturun. (figsize=(10,6))\n",
    "2. Birinci grafiğe (x,y) grafiğini , ikinci grafiğe (x,z) grafiğini çizin.\n",
    "3. plot() fonksiyonunun parametrelerini vererek, grafiği aşağıdaki grafiğe benzer özelleştirin."
   ]
  },
  {
   "cell_type": "code",
   "execution_count": 21,
   "metadata": {},
   "outputs": [
    {
     "ename": "AttributeError",
     "evalue": "'AxesSubplot' object has no attribute 'set_xlable'",
     "output_type": "error",
     "traceback": [
      "\u001b[1;31m---------------------------------------------------------------------------\u001b[0m",
      "\u001b[1;31mAttributeError\u001b[0m                            Traceback (most recent call last)",
      "\u001b[1;32m<ipython-input-21-c044020910f6>\u001b[0m in \u001b[0;36m<module>\u001b[1;34m\u001b[0m\n\u001b[0;32m      3\u001b[0m \u001b[0maxes\u001b[0m\u001b[1;33m[\u001b[0m\u001b[1;36m0\u001b[0m\u001b[1;33m]\u001b[0m\u001b[1;33m.\u001b[0m\u001b[0mplot\u001b[0m\u001b[1;33m(\u001b[0m\u001b[0mx\u001b[0m\u001b[1;33m,\u001b[0m\u001b[0my\u001b[0m\u001b[1;33m,\u001b[0m\u001b[0mcolor\u001b[0m \u001b[1;33m=\u001b[0m \u001b[1;34m\"red\"\u001b[0m\u001b[1;33m,\u001b[0m\u001b[0mlw\u001b[0m\u001b[1;33m=\u001b[0m\u001b[1;36m3\u001b[0m\u001b[1;33m,\u001b[0m\u001b[0mls\u001b[0m\u001b[1;33m=\u001b[0m\u001b[1;34m\"--\"\u001b[0m\u001b[1;33m,\u001b[0m\u001b[0mmarker\u001b[0m \u001b[1;33m=\u001b[0m\u001b[1;34m\"o\"\u001b[0m\u001b[1;33m,\u001b[0m\u001b[0mmarkerfacecolor\u001b[0m \u001b[1;33m=\u001b[0m\u001b[1;34m\"black\"\u001b[0m\u001b[1;33m)\u001b[0m\u001b[1;33m\u001b[0m\u001b[1;33m\u001b[0m\u001b[0m\n\u001b[0;32m      4\u001b[0m \u001b[1;33m\u001b[0m\u001b[0m\n\u001b[1;32m----> 5\u001b[1;33m \u001b[0maxes\u001b[0m\u001b[1;33m[\u001b[0m\u001b[1;36m0\u001b[0m\u001b[1;33m]\u001b[0m\u001b[1;33m.\u001b[0m\u001b[0mset_xlable\u001b[0m\u001b[1;33m(\u001b[0m\u001b[1;34m\"X Values\"\u001b[0m\u001b[1;33m)\u001b[0m\u001b[1;33m\u001b[0m\u001b[1;33m\u001b[0m\u001b[0m\n\u001b[0m\u001b[0;32m      6\u001b[0m \u001b[0maxes\u001b[0m\u001b[1;33m[\u001b[0m\u001b[1;36m0\u001b[0m\u001b[1;33m]\u001b[0m\u001b[1;33m.\u001b[0m\u001b[0mset_ylable\u001b[0m\u001b[1;33m(\u001b[0m\u001b[1;34m\"Y Values\"\u001b[0m\u001b[1;33m)\u001b[0m\u001b[1;33m\u001b[0m\u001b[1;33m\u001b[0m\u001b[0m\n\u001b[0;32m      7\u001b[0m \u001b[0maxes\u001b[0m\u001b[1;33m[\u001b[0m\u001b[1;36m0\u001b[0m\u001b[1;33m]\u001b[0m\u001b[1;33m.\u001b[0m\u001b[0mset_title\u001b[0m\u001b[1;33m(\u001b[0m\u001b[1;34m\"X vs Y Graph\"\u001b[0m\u001b[1;33m)\u001b[0m\u001b[1;33m\u001b[0m\u001b[1;33m\u001b[0m\u001b[0m\n",
      "\u001b[1;31mAttributeError\u001b[0m: 'AxesSubplot' object has no attribute 'set_xlable'"
     ]
    },
    {
     "data": {
      "image/png": "[encoded data removed]",
      "text/plain": [
       "<Figure size 720x432 with 2 Axes>"
      ]
     },
     "metadata": {
      "needs_background": "light"
     },
     "output_type": "display_data"
    }
   ],
   "source": [
    "fig,axes =plt.subplots(nrows =1 ,ncols =2 ,figsize =(10,6))\n",
    "\n",
    "axes[0].plot(x,y,color = \"red\",lw=3,ls=\"--\",marker =\"o\",markerfacecolor =\"black\")\n",
    "\n",
    "axes[0].set_xlable(\"X Values\")\n",
    "axes[0].set_ylable(\"Y Values\")\n",
    "axes[0].set_title(\"X vs Y Graph\")\n",
    "\n",
    "axes[1].plot(x,z,color = \"purple\",lw =3,ls =\"--\")\n",
    "\n",
    "axes[1].set_xlable(\"X Values\")\n",
    "axes[1].set_zlable(\"Z Values\")\n",
    "axes[1].set_title(\"X vs Z Graph\")\n",
    "\n",
    "\n"
   ]
  },
  {
   "cell_type": "code",
   "execution_count": null,
   "metadata": {},
   "outputs": [],
   "source": []
  }
 ],
 "metadata": {
  "kernelspec": {
   "display_name": "Python 3",
   "language": "python",
   "name": "python3"
  },
  "language_info": {
   "codemirror_mode": {
    "name": "ipython",
    "version": 3
   },
   "file_extension": ".py",
   "mimetype": "text/x-python",
   "name": "python",
   "nbconvert_exporter": "python",
   "pygments_lexer": "ipython3",
   "version": "3.8.5"
  }
 },
 "nbformat": 4,
 "nbformat_minor": 4
}
