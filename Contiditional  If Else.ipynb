{
 "cells": [
  {
   "cell_type": "code",
   "execution_count": 1,
   "metadata": {},
   "outputs": [
    {
     "name": "stdout",
     "output_type": "stream",
     "text": [
      "please enter your age17\n",
      "you cannot enter the please\n"
     ]
    }
   ],
   "source": [
    "age= int(input(\"please enter your age:\"))\n",
    "if age<18:\n",
    "    print(\"you cannot enter the please!\")"
   ]
  },
  {
   "cell_type": "code",
   "execution_count": 2,
   "metadata": {},
   "outputs": [
    {
     "name": "stdout",
     "output_type": "stream",
     "text": [
      "please enter your age:19\n"
     ]
    }
   ],
   "source": [
    "age= int(input(\"please enter your age:\"))\n",
    "if age<18:\n",
    "    print(\"you cannot enter the please!\")"
   ]
  },
  {
   "cell_type": "code",
   "execution_count": 3,
   "metadata": {},
   "outputs": [
    {
     "name": "stdout",
     "output_type": "stream",
     "text": [
      "please enter your age:25\n",
      "you are good to go\n"
     ]
    }
   ],
   "source": [
    "age= int(input(\"please enter your age:\"))\n",
    "if age<18:\n",
    "    print(\"you cannot enter the please!\")\n",
    "else:\n",
    "    print(\"you are good to go\")"
   ]
  },
  {
   "cell_type": "code",
   "execution_count": 6,
   "metadata": {},
   "outputs": [
    {
     "name": "stdout",
     "output_type": "stream",
     "text": [
      "Number-3\n",
      "Nagetive number\n"
     ]
    }
   ],
   "source": [
    "number = int (input(\"Number\"))\n",
    "\n",
    "if number<0:\n",
    "    print(\"Nagetive number\")\n",
    "    \n",
    "else:\n",
    "    print(\"Zero or positive number\")\n",
    "    "
   ]
  },
  {
   "cell_type": "code",
   "execution_count": 7,
   "metadata": {},
   "outputs": [
    {
     "name": "stdout",
     "output_type": "stream",
     "text": [
      "Number5\n",
      "Zero or positive number\n"
     ]
    }
   ],
   "source": [
    "number = int (input(\"Number\"))\n",
    "\n",
    "if number<0:\n",
    "    print(\"Nagetive number\")\n",
    "    \n",
    "else:\n",
    "    print(\"Zero or positive number\")"
   ]
  },
  {
   "cell_type": "code",
   "execution_count": 8,
   "metadata": {},
   "outputs": [
    {
     "ename": "SyntaxError",
     "evalue": "invalid syntax (<ipython-input-8-3dddcb4511a1>, line 5)",
     "output_type": "error",
     "traceback": [
      "\u001b[1;36m  File \u001b[1;32m\"<ipython-input-8-3dddcb4511a1>\"\u001b[1;36m, line \u001b[1;32m5\u001b[0m\n\u001b[1;33m    else if process= \"2\":\u001b[0m\n\u001b[1;37m         ^\u001b[0m\n\u001b[1;31mSyntaxError\u001b[0m\u001b[1;31m:\u001b[0m invalid syntax\n"
     ]
    }
   ],
   "source": [
    "process = input(\"enter trading:\")\n",
    "\n",
    "if process==\"1\":\n",
    "    print(\" selected 1 transection\")\n",
    "else if process== \"2\":\n",
    "     print(\" selected 2 transection\")\n",
    "else if process== \"3\":\n",
    "     print(\" selected 3 transection\")\n",
    "else if process== \"4\":\n",
    "     print(\" selected 4 transection\")\n",
    "else:\n",
    "    print(\"invalid transaction\")\n",
    "    \n",
    "    "
   ]
  },
  {
   "cell_type": "code",
   "execution_count": 11,
   "metadata": {},
   "outputs": [
    {
     "name": "stdout",
     "output_type": "stream",
     "text": [
      "enter trading:6\n",
      "invalid trading\n"
     ]
    }
   ],
   "source": [
    "process = input(\"enter trading:\")\n",
    "\n",
    "if process==\"1\":\n",
    "    print(\" selected 1 trading\")\n",
    "elif process== \"2\":\n",
    "     print(\" selected 2 trading\")\n",
    "elif process== \"3\":\n",
    "     print(\" selected 3 trading\")\n",
    "elif process== \"4\":\n",
    "     print(\" selected 4 trading\")\n",
    "else:\n",
    "    print(\"invalid trading\")\n",
    "    \n",
    "    "
   ]
  },
  {
   "cell_type": "code",
   "execution_count": 13,
   "metadata": {},
   "outputs": [
    {
     "name": "stdout",
     "output_type": "stream",
     "text": [
      "enter your grade please30\n",
      "Your failure\n"
     ]
    }
   ],
   "source": [
    "note =float(input(\"enter your grade please\"))\n",
    "\n",
    "if(note>=90):\n",
    "    print(\"AA\")\n",
    "elif(note>=85):\n",
    "    print(\"BA\")\n",
    "elif(note>=80):\n",
    "    print(\"BB\")\n",
    "elif(note>=70):\n",
    "    print(\"B\")\n",
    "elif(note==50):\n",
    "    print(\"CC\")\n",
    "elif(note>40):\n",
    "    print(\"DD\")\n",
    "else:\n",
    "    print(\"Your failure\")"
   ]
  },
  {
   "cell_type": "code",
   "execution_count": 14,
   "metadata": {},
   "outputs": [
    {
     "name": "stdout",
     "output_type": "stream",
     "text": [
      "enter your grade please75\n",
      "B\n",
      "DD\n"
     ]
    }
   ],
   "source": [
    "note =float(input(\"enter your grade please\"))\n",
    "\n",
    "if(note>=90):\n",
    "    print(\"AA\")\n",
    "if(note>=85):\n",
    "    print(\"BA\")\n",
    "if(note>=80):\n",
    "    print(\"BB\")\n",
    "if(note>=70):\n",
    "    print(\"B\")\n",
    "if(note==50):\n",
    "    print(\"CC\")\n",
    "if(note>40):\n",
    "    print(\"DD\")\n",
    "else:\n",
    "    print(\"Your failure\")"
   ]
  },
  {
   "cell_type": "code",
   "execution_count": null,
   "metadata": {},
   "outputs": [],
   "source": []
  }
 ],
 "metadata": {
  "kernelspec": {
   "display_name": "Python 3",
   "language": "python",
   "name": "python3"
  },
  "language_info": {
   "codemirror_mode": {
    "name": "ipython",
    "version": 3
   },
   "file_extension": ".py",
   "mimetype": "text/x-python",
   "name": "python",
   "nbconvert_exporter": "python",
   "pygments_lexer": "ipython3",
   "version": "3.8.5"
  }
 },
 "nbformat": 4,
 "nbformat_minor": 4
}
